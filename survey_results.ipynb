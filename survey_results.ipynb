{
 "cells": [
  {
   "cell_type": "markdown",
   "metadata": {},
   "source": [
    "## Write a Data Science Blog Post\n",
    "### War for talent! What companies need to do to  attract talent within software engineering. "
   ]
  },
  {
   "cell_type": "markdown",
   "metadata": {},
   "source": [
    "With the help of the Stack Overflow Developer Survey from 2019 I want to answer the question, what companies need to do to attract talent within software engineering.\n",
    "For the analysis of the data set I will follwo the CRISP-DM Process (Cross Industry Process for Data Mining)"
   ]
  },
  {
   "cell_type": "markdown",
   "metadata": {},
   "source": [
    "### 1. Business Understanding"
   ]
  },
  {
   "cell_type": "markdown",
   "metadata": {},
   "source": [
    "During my time in an e-commerce Startup in Berlin, I quickly realized that biggest challenge for tech-driven Start-up is to find talented software engineers.\n",
    "In December of 2018 there was a shortage of 82.000 of IT specialists and according the german newspaper Handelsblatt, it takes in average 143 days to fill an open position.\n",
    "What must a company do to attract talent in this ongoing war for talent with this high demand for engineers? \n",
    "How does developer think? What's important to them? Recruiter, HR and other decisions maker must understand how to create an work environment which is attractive to software engineers. \n",
    "With the help of the Stack Overflow Developer Survey from 2019 I want to answer the question, what companies need to do to attract talent within software engineering.\n",
    "\n",
    "\n"
   ]
  },
  {
   "cell_type": "markdown",
   "metadata": {},
   "source": [
    "### 2. Data Understanding"
   ]
  },
  {
   "cell_type": "code",
   "execution_count": 9,
   "metadata": {},
   "outputs": [],
   "source": [
    "# importing the neccessary libaries\n",
    "import pandas as pd\n",
    "import seaborn as sns\n",
    "import numpy as np\n",
    "import matplotlib.pyplot as plt\n",
    "%matplotlib inline\n",
    "from collections import defaultdict\n",
    "import statsmodels.api as sm\n",
    "from statsmodels.stats.outliers_influence import variance_inflation_factor\n",
    "from patsy import dmatrices"
   ]
  },
  {
   "cell_type": "markdown",
   "metadata": {},
   "source": [
    "### Loading the data -  2019 Stack Overflow Developer Survey."
   ]
  },
  {
   "cell_type": "markdown",
   "metadata": {},
   "source": [
    "The data set is the full, cleaned results of the **2019 Stack Overflow Developer Survey**. Free response submissions and personally identifying information have been removed from the results to protect the privacy of respondents. There are two CSV files:"
   ]
  },
  {
   "cell_type": "markdown",
   "metadata": {},
   "source": [
    "1. survey_results_public.csv - CSV file with main survey results, one respondent per row and one column per answer\n",
    "2. survey_results_schema.csv - CSV file with survey schema, i.e., the questions that correspond to each column name"
   ]
  },
  {
   "cell_type": "code",
   "execution_count": 10,
   "metadata": {},
   "outputs": [
    {
     "data": {
      "text/html": [
       "<div>\n",
       "<style scoped>\n",
       "    .dataframe tbody tr th:only-of-type {\n",
       "        vertical-align: middle;\n",
       "    }\n",
       "\n",
       "    .dataframe tbody tr th {\n",
       "        vertical-align: top;\n",
       "    }\n",
       "\n",
       "    .dataframe thead th {\n",
       "        text-align: right;\n",
       "    }\n",
       "</style>\n",
       "<table border=\"1\" class=\"dataframe\">\n",
       "  <thead>\n",
       "    <tr style=\"text-align: right;\">\n",
       "      <th></th>\n",
       "      <th>Respondent</th>\n",
       "      <th>MainBranch</th>\n",
       "      <th>Hobbyist</th>\n",
       "      <th>OpenSourcer</th>\n",
       "      <th>OpenSource</th>\n",
       "      <th>Employment</th>\n",
       "      <th>Country</th>\n",
       "      <th>Student</th>\n",
       "      <th>EdLevel</th>\n",
       "      <th>UndergradMajor</th>\n",
       "      <th>...</th>\n",
       "      <th>WelcomeChange</th>\n",
       "      <th>SONewContent</th>\n",
       "      <th>Age</th>\n",
       "      <th>Gender</th>\n",
       "      <th>Trans</th>\n",
       "      <th>Sexuality</th>\n",
       "      <th>Ethnicity</th>\n",
       "      <th>Dependents</th>\n",
       "      <th>SurveyLength</th>\n",
       "      <th>SurveyEase</th>\n",
       "    </tr>\n",
       "  </thead>\n",
       "  <tbody>\n",
       "    <tr>\n",
       "      <th>0</th>\n",
       "      <td>1</td>\n",
       "      <td>I am a student who is learning to code</td>\n",
       "      <td>Yes</td>\n",
       "      <td>Never</td>\n",
       "      <td>The quality of OSS and closed source software ...</td>\n",
       "      <td>Not employed, and not looking for work</td>\n",
       "      <td>United Kingdom</td>\n",
       "      <td>No</td>\n",
       "      <td>Primary/elementary school</td>\n",
       "      <td>NaN</td>\n",
       "      <td>...</td>\n",
       "      <td>Just as welcome now as I felt last year</td>\n",
       "      <td>Tech articles written by other developers;Indu...</td>\n",
       "      <td>14.0</td>\n",
       "      <td>Man</td>\n",
       "      <td>No</td>\n",
       "      <td>Straight / Heterosexual</td>\n",
       "      <td>NaN</td>\n",
       "      <td>No</td>\n",
       "      <td>Appropriate in length</td>\n",
       "      <td>Neither easy nor difficult</td>\n",
       "    </tr>\n",
       "    <tr>\n",
       "      <th>1</th>\n",
       "      <td>2</td>\n",
       "      <td>I am a student who is learning to code</td>\n",
       "      <td>No</td>\n",
       "      <td>Less than once per year</td>\n",
       "      <td>The quality of OSS and closed source software ...</td>\n",
       "      <td>Not employed, but looking for work</td>\n",
       "      <td>Bosnia and Herzegovina</td>\n",
       "      <td>Yes, full-time</td>\n",
       "      <td>Secondary school (e.g. American high school, G...</td>\n",
       "      <td>NaN</td>\n",
       "      <td>...</td>\n",
       "      <td>Just as welcome now as I felt last year</td>\n",
       "      <td>Tech articles written by other developers;Indu...</td>\n",
       "      <td>19.0</td>\n",
       "      <td>Man</td>\n",
       "      <td>No</td>\n",
       "      <td>Straight / Heterosexual</td>\n",
       "      <td>NaN</td>\n",
       "      <td>No</td>\n",
       "      <td>Appropriate in length</td>\n",
       "      <td>Neither easy nor difficult</td>\n",
       "    </tr>\n",
       "    <tr>\n",
       "      <th>2</th>\n",
       "      <td>3</td>\n",
       "      <td>I am not primarily a developer, but I write co...</td>\n",
       "      <td>Yes</td>\n",
       "      <td>Never</td>\n",
       "      <td>The quality of OSS and closed source software ...</td>\n",
       "      <td>Employed full-time</td>\n",
       "      <td>Thailand</td>\n",
       "      <td>No</td>\n",
       "      <td>Bachelor’s degree (BA, BS, B.Eng., etc.)</td>\n",
       "      <td>Web development or web design</td>\n",
       "      <td>...</td>\n",
       "      <td>Just as welcome now as I felt last year</td>\n",
       "      <td>Tech meetups or events in your area;Courses on...</td>\n",
       "      <td>28.0</td>\n",
       "      <td>Man</td>\n",
       "      <td>No</td>\n",
       "      <td>Straight / Heterosexual</td>\n",
       "      <td>NaN</td>\n",
       "      <td>Yes</td>\n",
       "      <td>Appropriate in length</td>\n",
       "      <td>Neither easy nor difficult</td>\n",
       "    </tr>\n",
       "    <tr>\n",
       "      <th>3</th>\n",
       "      <td>4</td>\n",
       "      <td>I am a developer by profession</td>\n",
       "      <td>No</td>\n",
       "      <td>Never</td>\n",
       "      <td>The quality of OSS and closed source software ...</td>\n",
       "      <td>Employed full-time</td>\n",
       "      <td>United States</td>\n",
       "      <td>No</td>\n",
       "      <td>Bachelor’s degree (BA, BS, B.Eng., etc.)</td>\n",
       "      <td>Computer science, computer engineering, or sof...</td>\n",
       "      <td>...</td>\n",
       "      <td>Just as welcome now as I felt last year</td>\n",
       "      <td>Tech articles written by other developers;Indu...</td>\n",
       "      <td>22.0</td>\n",
       "      <td>Man</td>\n",
       "      <td>No</td>\n",
       "      <td>Straight / Heterosexual</td>\n",
       "      <td>White or of European descent</td>\n",
       "      <td>No</td>\n",
       "      <td>Appropriate in length</td>\n",
       "      <td>Easy</td>\n",
       "    </tr>\n",
       "    <tr>\n",
       "      <th>4</th>\n",
       "      <td>5</td>\n",
       "      <td>I am a developer by profession</td>\n",
       "      <td>Yes</td>\n",
       "      <td>Once a month or more often</td>\n",
       "      <td>OSS is, on average, of HIGHER quality than pro...</td>\n",
       "      <td>Employed full-time</td>\n",
       "      <td>Ukraine</td>\n",
       "      <td>No</td>\n",
       "      <td>Bachelor’s degree (BA, BS, B.Eng., etc.)</td>\n",
       "      <td>Computer science, computer engineering, or sof...</td>\n",
       "      <td>...</td>\n",
       "      <td>Just as welcome now as I felt last year</td>\n",
       "      <td>Tech meetups or events in your area;Courses on...</td>\n",
       "      <td>30.0</td>\n",
       "      <td>Man</td>\n",
       "      <td>No</td>\n",
       "      <td>Straight / Heterosexual</td>\n",
       "      <td>White or of European descent;Multiracial</td>\n",
       "      <td>No</td>\n",
       "      <td>Appropriate in length</td>\n",
       "      <td>Easy</td>\n",
       "    </tr>\n",
       "  </tbody>\n",
       "</table>\n",
       "<p>5 rows × 85 columns</p>\n",
       "</div>"
      ],
      "text/plain": [
       "   Respondent                                         MainBranch Hobbyist  \\\n",
       "0           1             I am a student who is learning to code      Yes   \n",
       "1           2             I am a student who is learning to code       No   \n",
       "2           3  I am not primarily a developer, but I write co...      Yes   \n",
       "3           4                     I am a developer by profession       No   \n",
       "4           5                     I am a developer by profession      Yes   \n",
       "\n",
       "                  OpenSourcer  \\\n",
       "0                       Never   \n",
       "1     Less than once per year   \n",
       "2                       Never   \n",
       "3                       Never   \n",
       "4  Once a month or more often   \n",
       "\n",
       "                                          OpenSource  \\\n",
       "0  The quality of OSS and closed source software ...   \n",
       "1  The quality of OSS and closed source software ...   \n",
       "2  The quality of OSS and closed source software ...   \n",
       "3  The quality of OSS and closed source software ...   \n",
       "4  OSS is, on average, of HIGHER quality than pro...   \n",
       "\n",
       "                               Employment                 Country  \\\n",
       "0  Not employed, and not looking for work          United Kingdom   \n",
       "1      Not employed, but looking for work  Bosnia and Herzegovina   \n",
       "2                      Employed full-time                Thailand   \n",
       "3                      Employed full-time           United States   \n",
       "4                      Employed full-time                 Ukraine   \n",
       "\n",
       "          Student                                            EdLevel  \\\n",
       "0              No                          Primary/elementary school   \n",
       "1  Yes, full-time  Secondary school (e.g. American high school, G...   \n",
       "2              No           Bachelor’s degree (BA, BS, B.Eng., etc.)   \n",
       "3              No           Bachelor’s degree (BA, BS, B.Eng., etc.)   \n",
       "4              No           Bachelor’s degree (BA, BS, B.Eng., etc.)   \n",
       "\n",
       "                                      UndergradMajor  ...  \\\n",
       "0                                                NaN  ...   \n",
       "1                                                NaN  ...   \n",
       "2                      Web development or web design  ...   \n",
       "3  Computer science, computer engineering, or sof...  ...   \n",
       "4  Computer science, computer engineering, or sof...  ...   \n",
       "\n",
       "                             WelcomeChange  \\\n",
       "0  Just as welcome now as I felt last year   \n",
       "1  Just as welcome now as I felt last year   \n",
       "2  Just as welcome now as I felt last year   \n",
       "3  Just as welcome now as I felt last year   \n",
       "4  Just as welcome now as I felt last year   \n",
       "\n",
       "                                        SONewContent   Age Gender Trans  \\\n",
       "0  Tech articles written by other developers;Indu...  14.0    Man    No   \n",
       "1  Tech articles written by other developers;Indu...  19.0    Man    No   \n",
       "2  Tech meetups or events in your area;Courses on...  28.0    Man    No   \n",
       "3  Tech articles written by other developers;Indu...  22.0    Man    No   \n",
       "4  Tech meetups or events in your area;Courses on...  30.0    Man    No   \n",
       "\n",
       "                 Sexuality                                 Ethnicity  \\\n",
       "0  Straight / Heterosexual                                       NaN   \n",
       "1  Straight / Heterosexual                                       NaN   \n",
       "2  Straight / Heterosexual                                       NaN   \n",
       "3  Straight / Heterosexual              White or of European descent   \n",
       "4  Straight / Heterosexual  White or of European descent;Multiracial   \n",
       "\n",
       "  Dependents           SurveyLength                  SurveyEase  \n",
       "0         No  Appropriate in length  Neither easy nor difficult  \n",
       "1         No  Appropriate in length  Neither easy nor difficult  \n",
       "2        Yes  Appropriate in length  Neither easy nor difficult  \n",
       "3         No  Appropriate in length                        Easy  \n",
       "4         No  Appropriate in length                        Easy  \n",
       "\n",
       "[5 rows x 85 columns]"
      ]
     },
     "execution_count": 10,
     "metadata": {},
     "output_type": "execute_result"
    }
   ],
   "source": [
    "# loading the dataset and the survey schema to the notebook\n",
    "survey_schmema = pd.read_csv('survey_results_schema.csv')\n",
    "survey_df = pd.read_csv('survey_results_public.csv')\n",
    "survey_df.head()"
   ]
  },
  {
   "cell_type": "code",
   "execution_count": 11,
   "metadata": {},
   "outputs": [
    {
     "data": {
      "text/html": [
       "<div>\n",
       "<style scoped>\n",
       "    .dataframe tbody tr th:only-of-type {\n",
       "        vertical-align: middle;\n",
       "    }\n",
       "\n",
       "    .dataframe tbody tr th {\n",
       "        vertical-align: top;\n",
       "    }\n",
       "\n",
       "    .dataframe thead th {\n",
       "        text-align: right;\n",
       "    }\n",
       "</style>\n",
       "<table border=\"1\" class=\"dataframe\">\n",
       "  <thead>\n",
       "    <tr style=\"text-align: right;\">\n",
       "      <th></th>\n",
       "      <th>Column</th>\n",
       "      <th>QuestionText</th>\n",
       "    </tr>\n",
       "  </thead>\n",
       "  <tbody>\n",
       "    <tr>\n",
       "      <th>39</th>\n",
       "      <td>CodeRevHrs</td>\n",
       "      <td>On average, how many hours per week do you spe...</td>\n",
       "    </tr>\n",
       "  </tbody>\n",
       "</table>\n",
       "</div>"
      ],
      "text/plain": [
       "        Column                                       QuestionText\n",
       "39  CodeRevHrs  On average, how many hours per week do you spe..."
      ]
     },
     "execution_count": 11,
     "metadata": {},
     "output_type": "execute_result"
    }
   ],
   "source": [
    "survey_schmema[survey_schmema['Column']=='CodeRevHrs']"
   ]
  },
  {
   "cell_type": "code",
   "execution_count": 12,
   "metadata": {},
   "outputs": [
    {
     "data": {
      "text/plain": [
       "(88883, 85)"
      ]
     },
     "execution_count": 12,
     "metadata": {},
     "output_type": "execute_result"
    }
   ],
   "source": [
    "#gettinga first overview about the data\n",
    "survey_df.shape"
   ]
  },
  {
   "cell_type": "code",
   "execution_count": 13,
   "metadata": {},
   "outputs": [
    {
     "name": "stdout",
     "output_type": "stream",
     "text": [
      "<class 'pandas.core.frame.DataFrame'>\n",
      "RangeIndex: 88883 entries, 0 to 88882\n",
      "Data columns (total 85 columns):\n",
      "Respondent                88883 non-null int64\n",
      "MainBranch                88331 non-null object\n",
      "Hobbyist                  88883 non-null object\n",
      "OpenSourcer               88883 non-null object\n",
      "OpenSource                86842 non-null object\n",
      "Employment                87181 non-null object\n",
      "Country                   88751 non-null object\n",
      "Student                   87014 non-null object\n",
      "EdLevel                   86390 non-null object\n",
      "UndergradMajor            75614 non-null object\n",
      "EduOther                  84260 non-null object\n",
      "OrgSize                   71791 non-null object\n",
      "DevType                   81335 non-null object\n",
      "YearsCode                 87938 non-null object\n",
      "Age1stCode                87634 non-null object\n",
      "YearsCodePro              74331 non-null object\n",
      "CareerSat                 72847 non-null object\n",
      "JobSat                    70988 non-null object\n",
      "MgrIdiot                  61159 non-null object\n",
      "MgrMoney                  61157 non-null object\n",
      "MgrWant                   61232 non-null object\n",
      "JobSeek                   80555 non-null object\n",
      "LastHireDate              79854 non-null object\n",
      "LastInt                   67155 non-null object\n",
      "FizzBuzz                  71344 non-null object\n",
      "JobFactors                79371 non-null object\n",
      "ResumeUpdate              77877 non-null object\n",
      "CurrencySymbol            71392 non-null object\n",
      "CurrencyDesc              71392 non-null object\n",
      "CompTotal                 55945 non-null float64\n",
      "CompFreq                  63268 non-null object\n",
      "ConvertedComp             55823 non-null float64\n",
      "WorkWeekHrs               64503 non-null float64\n",
      "WorkPlan                  68914 non-null object\n",
      "WorkChallenge             68141 non-null object\n",
      "WorkRemote                70284 non-null object\n",
      "WorkLoc                   70055 non-null object\n",
      "ImpSyn                    71779 non-null object\n",
      "CodeRev                   70390 non-null object\n",
      "CodeRevHrs                49790 non-null float64\n",
      "UnitTests                 62668 non-null object\n",
      "PurchaseHow               61108 non-null object\n",
      "PurchaseWhat              62029 non-null object\n",
      "LanguageWorkedWith        87569 non-null object\n",
      "LanguageDesireNextYear    84088 non-null object\n",
      "DatabaseWorkedWith        76026 non-null object\n",
      "DatabaseDesireNextYear    69147 non-null object\n",
      "PlatformWorkedWith        80714 non-null object\n",
      "PlatformDesireNextYear    77443 non-null object\n",
      "WebFrameWorkedWith        65022 non-null object\n",
      "WebFrameDesireNextYear    62944 non-null object\n",
      "MiscTechWorkedWith        59586 non-null object\n",
      "MiscTechDesireNextYear    64511 non-null object\n",
      "DevEnviron                87317 non-null object\n",
      "OpSys                     87851 non-null object\n",
      "Containers                85366 non-null object\n",
      "BlockchainOrg             48175 non-null object\n",
      "BlockchainIs              60165 non-null object\n",
      "BetterLife                86269 non-null object\n",
      "ITperson                  87141 non-null object\n",
      "OffOn                     86663 non-null object\n",
      "SocialMedia               84437 non-null object\n",
      "Extraversion              87305 non-null object\n",
      "ScreenName                80486 non-null object\n",
      "SOVisit1st                83877 non-null object\n",
      "SOVisitFreq               88263 non-null object\n",
      "SOVisitTo                 88086 non-null object\n",
      "SOFindAnswer              87816 non-null object\n",
      "SOTimeSaved               86344 non-null object\n",
      "SOHowMuchTime             68378 non-null object\n",
      "SOAccount                 87828 non-null object\n",
      "SOPartFreq                74692 non-null object\n",
      "SOJobs                    88066 non-null object\n",
      "EntTeams                  87841 non-null object\n",
      "SOComm                    88131 non-null object\n",
      "WelcomeChange             85855 non-null object\n",
      "SONewContent              69560 non-null object\n",
      "Age                       79210 non-null float64\n",
      "Gender                    85406 non-null object\n",
      "Trans                     83607 non-null object\n",
      "Sexuality                 76147 non-null object\n",
      "Ethnicity                 76668 non-null object\n",
      "Dependents                83059 non-null object\n",
      "SurveyLength              86984 non-null object\n",
      "SurveyEase                87081 non-null object\n",
      "dtypes: float64(5), int64(1), object(79)\n",
      "memory usage: 57.6+ MB\n"
     ]
    }
   ],
   "source": [
    "survey_df.info()"
   ]
  },
  {
   "cell_type": "markdown",
   "metadata": {},
   "source": [
    "Now take a look at the summary statistics associated with the quantitative variables in your dataset. "
   ]
  },
  {
   "cell_type": "code",
   "execution_count": 14,
   "metadata": {},
   "outputs": [
    {
     "data": {
      "text/html": [
       "<div>\n",
       "<style scoped>\n",
       "    .dataframe tbody tr th:only-of-type {\n",
       "        vertical-align: middle;\n",
       "    }\n",
       "\n",
       "    .dataframe tbody tr th {\n",
       "        vertical-align: top;\n",
       "    }\n",
       "\n",
       "    .dataframe thead th {\n",
       "        text-align: right;\n",
       "    }\n",
       "</style>\n",
       "<table border=\"1\" class=\"dataframe\">\n",
       "  <thead>\n",
       "    <tr style=\"text-align: right;\">\n",
       "      <th></th>\n",
       "      <th>Respondent</th>\n",
       "      <th>CompTotal</th>\n",
       "      <th>ConvertedComp</th>\n",
       "      <th>WorkWeekHrs</th>\n",
       "      <th>CodeRevHrs</th>\n",
       "      <th>Age</th>\n",
       "    </tr>\n",
       "  </thead>\n",
       "  <tbody>\n",
       "    <tr>\n",
       "      <th>count</th>\n",
       "      <td>88883.000000</td>\n",
       "      <td>5.594500e+04</td>\n",
       "      <td>5.582300e+04</td>\n",
       "      <td>64503.000000</td>\n",
       "      <td>49790.000000</td>\n",
       "      <td>79210.000000</td>\n",
       "    </tr>\n",
       "    <tr>\n",
       "      <th>mean</th>\n",
       "      <td>44442.000000</td>\n",
       "      <td>5.519014e+11</td>\n",
       "      <td>1.271107e+05</td>\n",
       "      <td>42.127197</td>\n",
       "      <td>5.084308</td>\n",
       "      <td>30.336699</td>\n",
       "    </tr>\n",
       "    <tr>\n",
       "      <th>std</th>\n",
       "      <td>25658.456325</td>\n",
       "      <td>7.331926e+13</td>\n",
       "      <td>2.841523e+05</td>\n",
       "      <td>37.287610</td>\n",
       "      <td>5.513931</td>\n",
       "      <td>9.178390</td>\n",
       "    </tr>\n",
       "    <tr>\n",
       "      <th>min</th>\n",
       "      <td>1.000000</td>\n",
       "      <td>0.000000e+00</td>\n",
       "      <td>0.000000e+00</td>\n",
       "      <td>1.000000</td>\n",
       "      <td>0.000000</td>\n",
       "      <td>1.000000</td>\n",
       "    </tr>\n",
       "    <tr>\n",
       "      <th>25%</th>\n",
       "      <td>22221.500000</td>\n",
       "      <td>2.000000e+04</td>\n",
       "      <td>2.577750e+04</td>\n",
       "      <td>40.000000</td>\n",
       "      <td>2.000000</td>\n",
       "      <td>24.000000</td>\n",
       "    </tr>\n",
       "    <tr>\n",
       "      <th>50%</th>\n",
       "      <td>44442.000000</td>\n",
       "      <td>6.200000e+04</td>\n",
       "      <td>5.728700e+04</td>\n",
       "      <td>40.000000</td>\n",
       "      <td>4.000000</td>\n",
       "      <td>29.000000</td>\n",
       "    </tr>\n",
       "    <tr>\n",
       "      <th>75%</th>\n",
       "      <td>66662.500000</td>\n",
       "      <td>1.200000e+05</td>\n",
       "      <td>1.000000e+05</td>\n",
       "      <td>44.750000</td>\n",
       "      <td>6.000000</td>\n",
       "      <td>35.000000</td>\n",
       "    </tr>\n",
       "    <tr>\n",
       "      <th>max</th>\n",
       "      <td>88883.000000</td>\n",
       "      <td>1.000000e+16</td>\n",
       "      <td>2.000000e+06</td>\n",
       "      <td>4850.000000</td>\n",
       "      <td>99.000000</td>\n",
       "      <td>99.000000</td>\n",
       "    </tr>\n",
       "  </tbody>\n",
       "</table>\n",
       "</div>"
      ],
      "text/plain": [
       "         Respondent     CompTotal  ConvertedComp   WorkWeekHrs    CodeRevHrs  \\\n",
       "count  88883.000000  5.594500e+04   5.582300e+04  64503.000000  49790.000000   \n",
       "mean   44442.000000  5.519014e+11   1.271107e+05     42.127197      5.084308   \n",
       "std    25658.456325  7.331926e+13   2.841523e+05     37.287610      5.513931   \n",
       "min        1.000000  0.000000e+00   0.000000e+00      1.000000      0.000000   \n",
       "25%    22221.500000  2.000000e+04   2.577750e+04     40.000000      2.000000   \n",
       "50%    44442.000000  6.200000e+04   5.728700e+04     40.000000      4.000000   \n",
       "75%    66662.500000  1.200000e+05   1.000000e+05     44.750000      6.000000   \n",
       "max    88883.000000  1.000000e+16   2.000000e+06   4850.000000     99.000000   \n",
       "\n",
       "                Age  \n",
       "count  79210.000000  \n",
       "mean      30.336699  \n",
       "std        9.178390  \n",
       "min        1.000000  \n",
       "25%       24.000000  \n",
       "50%       29.000000  \n",
       "75%       35.000000  \n",
       "max       99.000000  "
      ]
     },
     "execution_count": 14,
     "metadata": {},
     "output_type": "execute_result"
    }
   ],
   "source": [
    "survey_df.describe()"
   ]
  },
  {
   "cell_type": "markdown",
   "metadata": {},
   "source": [
    "We can also see from the summary statistics that we have missing values"
   ]
  },
  {
   "cell_type": "code",
   "execution_count": 15,
   "metadata": {},
   "outputs": [
    {
     "data": {
      "image/png": "[encoded data removed]",
      "text/plain": [
       "<Figure size 432x288 with 6 Axes>"
      ]
     },
     "metadata": {
      "needs_background": "light"
     },
     "output_type": "display_data"
    }
   ],
   "source": [
    "survey_df.hist();"
   ]
  },
  {
   "cell_type": "markdown",
   "metadata": {},
   "source": [
    "One can see that the age, hours spend on code revies (CodeRevHrs) and the Salary (CompTotal, ConvertedCommp) are right-skweded"
   ]
  },
  {
   "cell_type": "code",
   "execution_count": 16,
   "metadata": {},
   "outputs": [
    {
     "data": {
      "image/png": "[encoded data removed]",
      "text/plain": [
       "<Figure size 432x288 with 2 Axes>"
      ]
     },
     "metadata": {
      "needs_background": "light"
     },
     "output_type": "display_data"
    }
   ],
   "source": [
    "# creating a heatmap to see correlations between the quantitative variables\n",
    "sns.heatmap(survey_df.corr(), annot=True, fmt=\".2f\");"
   ]
  },
  {
   "cell_type": "markdown",
   "metadata": {},
   "source": [
    "We can see the highest positive correlation between the compensations (Salary) and the Age, while the hours worked per week just seem to have weak correlation with the Salary"
   ]
  },
  {
   "cell_type": "markdown",
   "metadata": {},
   "source": [
    "#### What are the factors that influence Job and career satisfaction (CareerSat & JobSat)?"
   ]
  },
  {
   "cell_type": "code",
   "execution_count": 17,
   "metadata": {},
   "outputs": [
    {
     "data": {
      "text/plain": [
       "Slightly satisfied                    27.234679\n",
       "Very satisfied                        25.260173\n",
       "NaN                                   20.133209\n",
       "Slightly dissatisfied                 12.096801\n",
       "Neither satisfied nor dissatisfied     9.810650\n",
       "Very dissatisfied                      5.464487\n",
       "Name: JobSat, dtype: float64"
      ]
     },
     "execution_count": 17,
     "metadata": {},
     "output_type": "execute_result"
    }
   ],
   "source": [
    "#lets have a look at the two variables CareerSat & JobSat\n",
    "job_sat = survey_df.JobSat.value_counts(dropna=False)\n",
    "carrer_sat = survey_df.CareerSat.value_counts(dropna=False)\n",
    "(job_sat/survey_df.shape[0]*100)"
   ]
  },
  {
   "cell_type": "code",
   "execution_count": 18,
   "metadata": {},
   "outputs": [
    {
     "data": {
      "image/png": "[encoded data removed]",
      "text/plain": [
       "<Figure size 432x288 with 1 Axes>"
      ]
     },
     "metadata": {
      "needs_background": "light"
     },
     "output_type": "display_data"
    }
   ],
   "source": [
    "#bar chart of the proportion of individuals in each category (from very satisfied to very dissatisfied) \n",
    "(job_sat/survey_df.shape[0]*100).plot(kind='bar')\n",
    "plt.title('Proportion (%) Job satisfaction');"
   ]
  },
  {
   "cell_type": "code",
   "execution_count": 19,
   "metadata": {},
   "outputs": [
    {
     "data": {
      "text/plain": [
       "Very satisfied                        32.821799\n",
       "Slightly satisfied                    28.147115\n",
       "NaN                                   18.041695\n",
       "Slightly dissatisfied                  8.629322\n",
       "Neither satisfied nor dissatisfied     8.159041\n",
       "Very dissatisfied                      4.201028\n",
       "Name: CareerSat, dtype: float64"
      ]
     },
     "execution_count": 19,
     "metadata": {},
     "output_type": "execute_result"
    }
   ],
   "source": [
    "(carrer_sat/survey_df.shape[0]*100)"
   ]
  },
  {
   "cell_type": "code",
   "execution_count": 20,
   "metadata": {},
   "outputs": [
    {
     "data": {
      "image/png": "[encoded data removed]",
      "text/plain": [
       "<Figure size 432x288 with 1 Axes>"
      ]
     },
     "metadata": {
      "needs_background": "light"
     },
     "output_type": "display_data"
    }
   ],
   "source": [
    "#bar chart of the proportion of individuals in each category (from very satisfied to very dissatisfied) \n",
    "(carrer_sat/survey_df.shape[0]*100).plot(kind='bar')\n",
    "plt.title('Proportion (%) Carrer satisfaction');"
   ]
  },
  {
   "cell_type": "markdown",
   "metadata": {},
   "source": [
    "The result show that the majority is satisified (very satisfied and sligthly satisfied) with their carrer (about 60%) but just the half (around 52%) of the participants is satisfied (very satisfied and sligthly satisfied) with their current job situation. \n",
    "26% of the participant are dissatisfied with the current job, while 20% of the participants are dissatisified with their job.\n",
    "Interesting is also that around 20% didnt answer the question if their satisfied or dissatisfied with their job. \n",
    "In the next step I would like to identify the main drivers for job satisfication resp. job dissatisfaction."
   ]
  },
  {
   "cell_type": "code",
   "execution_count": 21,
   "metadata": {},
   "outputs": [],
   "source": [
    "#first I replace the strings with numerical values: from 1-5 (very dissatisfied- very satisfied) and save them in new column\n",
    "survey_df['JobSat_num'] = survey_df.JobSat.replace(['Very dissatisfied', 'Neither satisfied nor dissatisfied', 'Slightly dissatisfied', 'Slightly satisfied','Very satisfied'], [1, 2, 3, 4, 5])\n",
    "survey_df['CarrerSat_num'] = survey_df.CareerSat.replace(['Very dissatisfied', 'Neither satisfied nor dissatisfied', 'Slightly dissatisfied', 'Slightly satisfied','Very satisfied'], [1, 2, 3, 4, 5])"
   ]
  },
  {
   "cell_type": "code",
   "execution_count": 22,
   "metadata": {},
   "outputs": [
    {
     "data": {
      "text/plain": [
       "0    NaN\n",
       "1    NaN\n",
       "2    4.0\n",
       "3    4.0\n",
       "4    3.0\n",
       "Name: JobSat_num, dtype: float64"
      ]
     },
     "execution_count": 22,
     "metadata": {},
     "output_type": "execute_result"
    }
   ],
   "source": [
    "#sanity check \n",
    "survey_df['JobSat_num'].head()"
   ]
  },
  {
   "cell_type": "code",
   "execution_count": 23,
   "metadata": {},
   "outputs": [
    {
     "data": {
      "text/plain": [
       "0    NaN\n",
       "1    NaN\n",
       "2    4.0\n",
       "3    5.0\n",
       "4    1.0\n",
       "Name: CarrerSat_num, dtype: float64"
      ]
     },
     "execution_count": 23,
     "metadata": {},
     "output_type": "execute_result"
    }
   ],
   "source": [
    "#sanity check \n",
    "survey_df['CarrerSat_num'].head()"
   ]
  },
  {
   "cell_type": "markdown",
   "metadata": {},
   "source": [
    "By looking at the survey I identified the following questions can be answered through the following variables:\n",
    "\n",
    "- What framework/ work environmet must a company offer to attract developer resp. which organisational environment makes them satisfied in terms of career and their job (Proxies: OrgSize, work remote, type of employment, compensation) ?\n",
    "- Does interest in the field make you a more happy developer (Proxies: Hobbies, Open Sourcer, Are people who code in their freetime are more happy?)\n",
    "- What managerial style (PurchaseWhat, manager compensation, work plan, confidence in Manager) \n",
    "- what distractis them the most from work and which distraction makes the most dissatsiefied?"
   ]
  },
  {
   "cell_type": "markdown",
   "metadata": {},
   "source": [
    "### Which work environmet must a company offer to attract developer resp. which organisational environment makes them satisfied in terms of career and their job?"
   ]
  },
  {
   "cell_type": "code",
   "execution_count": 24,
   "metadata": {},
   "outputs": [
    {
     "data": {
      "text/plain": [
       "Employment\n",
       "Employed full-time                                      3.720614\n",
       "Independent contractor, freelancer, or self-employed    3.695061\n",
       "Employed part-time                                      3.670794\n",
       "Name: JobSat_num, dtype: float64"
      ]
     },
     "execution_count": 24,
     "metadata": {},
     "output_type": "execute_result"
    }
   ],
   "source": [
    "survey_df.groupby(['Employment']).mean()['JobSat_num'].sort_values(ascending=False).dropna()"
   ]
  },
  {
   "cell_type": "code",
   "execution_count": 25,
   "metadata": {},
   "outputs": [
    {
     "data": {
      "text/plain": [
       "Employment\n",
       "Employed full-time                                      3.977713\n",
       "Independent contractor, freelancer, or self-employed    3.866879\n",
       "Employed part-time                                      3.825489\n",
       "Not employed, but looking for work                      3.153952\n",
       "Name: CarrerSat_num, dtype: float64"
      ]
     },
     "execution_count": 25,
     "metadata": {},
     "output_type": "execute_result"
    }
   ],
   "source": [
    "survey_df.groupby(['Employment']).mean()['CarrerSat_num'].sort_values(ascending=False).dropna()"
   ]
  },
  {
   "cell_type": "markdown",
   "metadata": {},
   "source": [
    "The most satisfied with their job and carrer are delevopers that are employed full time"
   ]
  },
  {
   "cell_type": "code",
   "execution_count": 26,
   "metadata": {},
   "outputs": [
    {
     "data": {
      "text/plain": [
       "OrgSize\n",
       "2-9 employees                                         3.742612\n",
       "1,000 to 4,999 employees                              3.740485\n",
       "500 to 999 employees                                  3.740159\n",
       "100 to 499 employees                                  3.739463\n",
       "20 to 99 employees                                    3.727894\n",
       "5,000 to 9,999 employees                              3.713739\n",
       "10 to 19 employees                                    3.703551\n",
       "10,000 or more employees                              3.683896\n",
       "Just me - I am a freelancer, sole proprietor, etc.    3.621438\n",
       "Name: JobSat_num, dtype: float64"
      ]
     },
     "execution_count": 26,
     "metadata": {},
     "output_type": "execute_result"
    }
   ],
   "source": [
    "survey_df.groupby(['OrgSize']).mean()['JobSat_num'].sort_values(ascending=False)"
   ]
  },
  {
   "cell_type": "markdown",
   "metadata": {},
   "source": [
    "The job satisfaction seems in general not related with the organizatuon site. But its obvious that freelancer and developer in big companies are the most dissatisfied. "
   ]
  },
  {
   "cell_type": "code",
   "execution_count": 27,
   "metadata": {},
   "outputs": [
    {
     "data": {
      "text/plain": [
       "OrgSize\n",
       "5,000 to 9,999 employees                              4.025677\n",
       "10,000 or more employees                              4.024438\n",
       "1,000 to 4,999 employees                              4.018177\n",
       "100 to 499 employees                                  3.994937\n",
       "500 to 999 employees                                  3.982050\n",
       "20 to 99 employees                                    3.963428\n",
       "10 to 19 employees                                    3.918274\n",
       "2-9 employees                                         3.890463\n",
       "Just me - I am a freelancer, sole proprietor, etc.    3.796109\n",
       "Name: CarrerSat_num, dtype: float64"
      ]
     },
     "execution_count": 27,
     "metadata": {},
     "output_type": "execute_result"
    }
   ],
   "source": [
    "survey_df.groupby(['OrgSize']).mean()['CarrerSat_num'].sort_values(ascending=False)"
   ]
  },
  {
   "cell_type": "markdown",
   "metadata": {},
   "source": [
    "The carrer satisfaction is higher in bigger companies and declines with the size of the company. \n",
    "This is mostly likely due to the fact that bigger companies offers more carrer possibilites and have a more carrer steps"
   ]
  },
  {
   "cell_type": "code",
   "execution_count": 28,
   "metadata": {},
   "outputs": [
    {
     "data": {
      "text/plain": [
       "WorkRemote\n",
       "All or almost all the time (I'm full-time remote)          3.838488\n",
       "A few days each month                                      3.826089\n",
       "Less than half the time, but at least one day each week    3.814997\n",
       "More than half, but not all, the time                      3.684966\n",
       "About half the time                                        3.672892\n",
       "Less than once per month / Never                           3.639708\n",
       "It's complicated                                           3.416507\n",
       "Name: JobSat_num, dtype: float64"
      ]
     },
     "execution_count": 28,
     "metadata": {},
     "output_type": "execute_result"
    }
   ],
   "source": [
    "survey_df.groupby(['WorkRemote']).mean()['JobSat_num'].sort_values(ascending=False)"
   ]
  },
  {
   "cell_type": "markdown",
   "metadata": {},
   "source": [
    "The data shows that developer who works remot full-time are the most satisfied. From the ones that are work remotely full time, the ones that just works a few days remote are most satisfied.\n",
    "The ones that dont work remote are most dissatisfied"
   ]
  },
  {
   "cell_type": "code",
   "execution_count": 29,
   "metadata": {},
   "outputs": [
    {
     "data": {
      "text/plain": [
       "WorkRemote\n",
       "Less than half the time, but at least one day each week    4.087975\n",
       "A few days each month                                      4.075165\n",
       "All or almost all the time (I'm full-time remote)          4.009214\n",
       "About half the time                                        3.930010\n",
       "More than half, but not all, the time                      3.919613\n",
       "Less than once per month / Never                           3.897915\n",
       "It's complicated                                           3.692245\n",
       "Name: CarrerSat_num, dtype: float64"
      ]
     },
     "execution_count": 29,
     "metadata": {},
     "output_type": "execute_result"
    }
   ],
   "source": [
    "survey_df.groupby(['WorkRemote']).mean()['CarrerSat_num'].sort_values(ascending=False)"
   ]
  },
  {
   "cell_type": "markdown",
   "metadata": {},
   "source": [
    "On the other hand, the data for the carrer satisfaction is not so clear. \n",
    "But rhe ones that dont work remote are most dissatisfied with their carrer"
   ]
  },
  {
   "cell_type": "code",
   "execution_count": 30,
   "metadata": {},
   "outputs": [
    {
     "data": {
      "text/plain": [
       "JobSat_num\n",
       "1.0    120739.585703\n",
       "2.0    106379.734029\n",
       "3.0    110360.994075\n",
       "4.0    123414.081801\n",
       "5.0    147949.915596\n",
       "Name: ConvertedComp, dtype: float64"
      ]
     },
     "execution_count": 30,
     "metadata": {},
     "output_type": "execute_result"
    }
   ],
   "source": [
    "survey_df.groupby('JobSat_num').mean()['ConvertedComp']"
   ]
  },
  {
   "cell_type": "code",
   "execution_count": 31,
   "metadata": {},
   "outputs": [
    {
     "data": {
      "text/plain": [
       "CarrerSat_num\n",
       "1.0    105021.996615\n",
       "2.0     95161.797647\n",
       "3.0    100894.706079\n",
       "4.0    119516.699579\n",
       "5.0    148942.885712\n",
       "Name: ConvertedComp, dtype: float64"
      ]
     },
     "execution_count": 31,
     "metadata": {},
     "output_type": "execute_result"
    }
   ],
   "source": [
    "survey_df.groupby('CarrerSat_num').mean()['ConvertedComp']"
   ]
  },
  {
   "cell_type": "markdown",
   "metadata": {},
   "source": [
    "You can see that the satisfaction in average rises with the compensation (carrer and job satisfaction).\n",
    "But the most interesting inside is that the compensation doesnt prevent employees from beign dissatisied. The ones that are most dissatisfied ('1') have a decent salary in average makes you more satisfied."
   ]
  },
  {
   "cell_type": "markdown",
   "metadata": {},
   "source": [
    "Call for action for HR:\n",
    "- offer full-time employements\n",
    "- offer carrer possibilities and more carer steps\n",
    "- keep the spirit of small companies, flat hierachies"
   ]
  },
  {
   "cell_type": "markdown",
   "metadata": {},
   "source": [
    "### Does interest in the field of software engineering make you a more satisfied developer (Proxies: Hobbies, Open Sourcer) Are people who code in their freetime are more happy?"
   ]
  },
  {
   "cell_type": "code",
   "execution_count": 32,
   "metadata": {},
   "outputs": [
    {
     "data": {
      "text/plain": [
       "Hobbyist\n",
       "Yes    3.729318\n",
       "No     3.656007\n",
       "Name: JobSat_num, dtype: float64"
      ]
     },
     "execution_count": 32,
     "metadata": {},
     "output_type": "execute_result"
    }
   ],
   "source": [
    "survey_df.groupby(['Hobbyist']).mean()['JobSat_num'].sort_values(ascending=False)"
   ]
  },
  {
   "cell_type": "code",
   "execution_count": 33,
   "metadata": {},
   "outputs": [
    {
     "data": {
      "text/plain": [
       "Hobbyist\n",
       "Yes    3.973571\n",
       "No     3.824660\n",
       "Name: CarrerSat_num, dtype: float64"
      ]
     },
     "execution_count": 33,
     "metadata": {},
     "output_type": "execute_result"
    }
   ],
   "source": [
    "survey_df.groupby(['Hobbyist']).mean()['CarrerSat_num'].sort_values(ascending=False)"
   ]
  },
  {
   "cell_type": "code",
   "execution_count": 34,
   "metadata": {},
   "outputs": [
    {
     "data": {
      "text/plain": [
       "OpenSourcer\n",
       "Once a month or more often                            3.836499\n",
       "Less than once a month but more than once per year    3.770145\n",
       "Less than once per year                               3.697076\n",
       "Never                                                 3.646317\n",
       "Name: JobSat_num, dtype: float64"
      ]
     },
     "execution_count": 34,
     "metadata": {},
     "output_type": "execute_result"
    }
   ],
   "source": [
    "survey_df.groupby(['OpenSourcer']).mean()['JobSat_num'].sort_values(ascending=False)"
   ]
  },
  {
   "cell_type": "code",
   "execution_count": 35,
   "metadata": {},
   "outputs": [
    {
     "data": {
      "text/plain": [
       "OpenSourcer\n",
       "Once a month or more often                            4.053388\n",
       "Less than once a month but more than once per year    4.011644\n",
       "Less than once per year                               3.923462\n",
       "Never                                                 3.870975\n",
       "Name: CarrerSat_num, dtype: float64"
      ]
     },
     "execution_count": 35,
     "metadata": {},
     "output_type": "execute_result"
    }
   ],
   "source": [
    "survey_df.groupby(['OpenSourcer']).mean()['CarrerSat_num'].sort_values(ascending=False)"
   ]
  },
  {
   "cell_type": "markdown",
   "metadata": {},
   "source": [
    "Developer who code as a hobby and who contribute to open source projects more frequently are the more satisfied with their carrer and their current job situation "
   ]
  },
  {
   "cell_type": "markdown",
   "metadata": {},
   "source": [
    "Call for action HR:\n",
    "- offer the possibility to work on passion projects and contribute to open source project for some hours under the working time"
   ]
  },
  {
   "cell_type": "markdown",
   "metadata": {},
   "source": [
    "### What managerial style is prefered by developers ?"
   ]
  },
  {
   "cell_type": "code",
   "execution_count": 36,
   "metadata": {},
   "outputs": [
    {
     "data": {
      "text/plain": [
       "MgrIdiot\n",
       "Very confident            4.140043\n",
       "I don't have a manager    3.796834\n",
       "Somewhat confident        3.591747\n",
       "Not at all confident      2.883239\n",
       "Name: JobSat_num, dtype: float64"
      ]
     },
     "execution_count": 36,
     "metadata": {},
     "output_type": "execute_result"
    }
   ],
   "source": [
    "survey_df.groupby(['MgrIdiot']).mean()['JobSat_num'].sort_values(ascending=False)"
   ]
  },
  {
   "cell_type": "code",
   "execution_count": 37,
   "metadata": {},
   "outputs": [
    {
     "data": {
      "text/plain": [
       "MgrIdiot\n",
       "Very confident            4.214009\n",
       "I don't have a manager    4.038906\n",
       "Somewhat confident        3.861960\n",
       "Not at all confident      3.543466\n",
       "Name: CarrerSat_num, dtype: float64"
      ]
     },
     "execution_count": 37,
     "metadata": {},
     "output_type": "execute_result"
    }
   ],
   "source": [
    "survey_df.groupby(['MgrIdiot']).mean()['CarrerSat_num'].sort_values(ascending=False)"
   ]
  },
  {
   "cell_type": "markdown",
   "metadata": {},
   "source": [
    "The shows that having confidence in Management is key for the satisfaction. In fact, its better to have no Manager than having a Manager that people dont have confidence in."
   ]
  },
  {
   "cell_type": "code",
   "execution_count": 38,
   "metadata": {},
   "outputs": [
    {
     "data": {
      "text/plain": [
       "WorkPlan\n",
       "There is a schedule and/or spec (made by me or by a colleague), and my work somewhat aligns     3.795555\n",
       "There is a schedule and/or spec (made by me or by a colleague), and I follow it very closely    3.777556\n",
       "There's no schedule or spec; I work on what seems most important or urgent                      3.553907\n",
       "Name: JobSat_num, dtype: float64"
      ]
     },
     "execution_count": 38,
     "metadata": {},
     "output_type": "execute_result"
    }
   ],
   "source": [
    "survey_df.groupby(['WorkPlan']).mean()['JobSat_num'].sort_values(ascending=False)"
   ]
  },
  {
   "cell_type": "code",
   "execution_count": 39,
   "metadata": {},
   "outputs": [
    {
     "data": {
      "text/plain": [
       "WorkPlan\n",
       "There is a schedule and/or spec (made by me or by a colleague), and my work somewhat aligns     4.029847\n",
       "There is a schedule and/or spec (made by me or by a colleague), and I follow it very closely    3.984135\n",
       "There's no schedule or spec; I work on what seems most important or urgent                      3.844681\n",
       "Name: CarrerSat_num, dtype: float64"
      ]
     },
     "execution_count": 39,
     "metadata": {},
     "output_type": "execute_result"
    }
   ],
   "source": [
    "survey_df.groupby(['WorkPlan']).mean()['CarrerSat_num'].sort_values(ascending=False)"
   ]
  },
  {
   "cell_type": "markdown",
   "metadata": {},
   "source": [
    "On the other hand, developer appreciate if there is a shedule, work plan that they can follow. \n",
    "The ones that dont a shedule or spec are the ones that are the most dissatisfied"
   ]
  },
  {
   "cell_type": "code",
   "execution_count": 40,
   "metadata": {},
   "outputs": [
    {
     "data": {
      "text/plain": [
       "PurchaseWhat\n",
       "I have a great deal of influence    3.942062\n",
       "I have some influence               3.837017\n",
       "I have little or no influence       3.518737\n",
       "Name: JobSat_num, dtype: float64"
      ]
     },
     "execution_count": 40,
     "metadata": {},
     "output_type": "execute_result"
    }
   ],
   "source": [
    "survey_df.groupby(['PurchaseWhat']).mean()['JobSat_num'].sort_values(ascending=False)"
   ]
  },
  {
   "cell_type": "code",
   "execution_count": 41,
   "metadata": {},
   "outputs": [
    {
     "data": {
      "text/plain": [
       "PurchaseWhat\n",
       "I have a great deal of influence    4.152483\n",
       "I have some influence               4.050584\n",
       "I have little or no influence       3.837532\n",
       "Name: CarrerSat_num, dtype: float64"
      ]
     },
     "execution_count": 41,
     "metadata": {},
     "output_type": "execute_result"
    }
   ],
   "source": [
    "survey_df.groupby(['PurchaseWhat']).mean()['CarrerSat_num'].sort_values(ascending=False)"
   ]
  },
  {
   "cell_type": "markdown",
   "metadata": {},
   "source": [
    "the more influence developer in purchasing descision, the more satisfied they are with their work"
   ]
  },
  {
   "cell_type": "markdown",
   "metadata": {},
   "source": [
    "Call for action HR:\n",
    "\n",
    "- install management team around IT that understands what they are doing.\n",
    "- its better to not having a manager than one that doesnt fit the team\n",
    "- Management has to estbalish a process flow where people than follow the shedule, but there needs to be space to variance\n",
    "- encourage managerial style, where employees have influence in decisions"
   ]
  },
  {
   "cell_type": "markdown",
   "metadata": {},
   "source": [
    "### What distracts developer the most from work and which factors are important when choosing a new job?"
   ]
  },
  {
   "cell_type": "code",
   "execution_count": 42,
   "metadata": {},
   "outputs": [],
   "source": [
    "# the variable work challenge (what are your greatest challenges to productivity as a developer) needs to be engineered in order ot draw conclusion from it\n",
    "# first I need identify the possible values\n",
    "possible_values_work_challenge = ['Distracting work environment', 'Being tasked with non-development work',\n",
    "                   'Meetings','Time spent commuting', 'Not enough people for the workload','Toxic work environment',\n",
    "                   'Inadequate access to necessary tools','Lack of support from management',\n",
    "                   'Non-work commitments (parenting, school work, hobbies, etc.)']"
   ]
  },
  {
   "cell_type": "code",
   "execution_count": 43,
   "metadata": {},
   "outputs": [],
   "source": [
    "def total_count(df, col1, col2, look_for):\n",
    "    '''\n",
    "    INPUT:\n",
    "    df - the pandas dataframe you want to search\n",
    "    col1 - the column name you want to look through\n",
    "    col2 - the column you want to count values from\n",
    "    look_for - a list of strings you want to search for in each row of df[col]\n",
    "\n",
    "    OUTPUT:\n",
    "    new_df - a dataframe of each look_for with the count of how often it shows up\n",
    "    '''\n",
    "    new_df = defaultdict(int)\n",
    "    #loop through list of ed types\n",
    "    for val in look_for:\n",
    "        #loop through rows\n",
    "        for idx in range(df.shape[0]):\n",
    "            #if the ed type is in the row add 1\n",
    "            if val in df[col1][idx]:\n",
    "                new_df[val] += int(df[col2][idx])\n",
    "    new_df = pd.DataFrame(pd.Series(new_df)).reset_index()\n",
    "    new_df.columns = [col1, col2]\n",
    "    new_df.sort_values('count', ascending=False, inplace=True)\n",
    "    return new_df"
   ]
  },
  {
   "cell_type": "code",
   "execution_count": 44,
   "metadata": {},
   "outputs": [],
   "source": [
    "def clean(df):\n",
    "    '''\n",
    "    INPUT \n",
    "        df - a dataframe holding the CousinEducation column\n",
    "        \n",
    "    OUTPUT\n",
    "        study_df - a dataframe with the count of how many individuals\n",
    "      \n",
    "    '''\n",
    "    work_challenge =survey_df['WorkChallenge'].value_counts().reset_index()\n",
    "    work_challenge.rename(columns={'index': 'challenge', 'WorkChallenge': 'count'}, inplace=True)\n",
    "    work_challenge_df = total_count(work_challenge, 'challenge', 'count', possible_values_work_challenge)\n",
    "    work_challenge_df.set_index('challenge', inplace=True)\n",
    "    \n",
    "    return work_challenge_df\n",
    "\n",
    "work_challenge_df = clean(survey_df)"
   ]
  },
  {
   "cell_type": "code",
   "execution_count": 45,
   "metadata": {},
   "outputs": [
    {
     "data": {
      "text/html": [
       "<div>\n",
       "<style scoped>\n",
       "    .dataframe tbody tr th:only-of-type {\n",
       "        vertical-align: middle;\n",
       "    }\n",
       "\n",
       "    .dataframe tbody tr th {\n",
       "        vertical-align: top;\n",
       "    }\n",
       "\n",
       "    .dataframe thead th {\n",
       "        text-align: right;\n",
       "    }\n",
       "</style>\n",
       "<table border=\"1\" class=\"dataframe\">\n",
       "  <thead>\n",
       "    <tr style=\"text-align: right;\">\n",
       "      <th></th>\n",
       "      <th>count</th>\n",
       "    </tr>\n",
       "    <tr>\n",
       "      <th>challenge</th>\n",
       "      <th></th>\n",
       "    </tr>\n",
       "  </thead>\n",
       "  <tbody>\n",
       "    <tr>\n",
       "      <th>Distracting work environment</th>\n",
       "      <td>28491</td>\n",
       "    </tr>\n",
       "    <tr>\n",
       "      <th>Meetings</th>\n",
       "      <td>24961</td>\n",
       "    </tr>\n",
       "    <tr>\n",
       "      <th>Being tasked with non-development work</th>\n",
       "      <td>24846</td>\n",
       "    </tr>\n",
       "  </tbody>\n",
       "</table>\n",
       "</div>"
      ],
      "text/plain": [
       "                                        count\n",
       "challenge                                    \n",
       "Distracting work environment            28491\n",
       "Meetings                                24961\n",
       "Being tasked with non-development work  24846"
      ]
     },
     "execution_count": 45,
     "metadata": {},
     "output_type": "execute_result"
    }
   ],
   "source": [
    "# top 3 challeges named in the question\n",
    "work_challenge_df[:3]"
   ]
  },
  {
   "cell_type": "code",
   "execution_count": 46,
   "metadata": {},
   "outputs": [],
   "source": [
    "# the variable work challenge needs to be engineered in order ot draw conclusion from it\n",
    "# first I need identify the possible values\n",
    "possible_values_job_factors = ['Diversity of the company or organization', 'Diversity of the company or organization',\n",
    "                   'Industry that I’d be working in','How widely used or impactful my work output would be',\n",
    "                   'Specific department or team I’d be working on','Flex time or a flexible schedule',\n",
    "                   'Remote work options','Financial performance or funding status of the company or organization',\n",
    "                   'Office environment or company culture', 'Opportunities for professional development']"
   ]
  },
  {
   "cell_type": "code",
   "execution_count": 47,
   "metadata": {},
   "outputs": [],
   "source": [
    "def clean(df):\n",
    "    '''\n",
    "    INPUT \n",
    "        df - a dataframe holding the CousinEducation column\n",
    "        \n",
    "    OUTPUT\n",
    "        study_df - a dataframe with the count of how many individuals\n",
    "      \n",
    "    '''\n",
    "    job_factors =survey_df['JobFactors'].value_counts().reset_index()\n",
    "    job_factors.rename(columns={'index': 'factor', 'JobFactors': 'count'}, inplace=True)\n",
    "    job_factors_df = total_count(job_factors, 'factor', 'count', possible_values_job_factors)\n",
    "    job_factors_df.set_index('factor', inplace=True)\n",
    "    \n",
    "    return job_factors_df\n",
    "\n",
    "job_factors_df = clean(survey_df)"
   ]
  },
  {
   "cell_type": "code",
   "execution_count": 48,
   "metadata": {},
   "outputs": [
    {
     "data": {
      "text/html": [
       "<div>\n",
       "<style scoped>\n",
       "    .dataframe tbody tr th:only-of-type {\n",
       "        vertical-align: middle;\n",
       "    }\n",
       "\n",
       "    .dataframe tbody tr th {\n",
       "        vertical-align: top;\n",
       "    }\n",
       "\n",
       "    .dataframe thead th {\n",
       "        text-align: right;\n",
       "    }\n",
       "</style>\n",
       "<table border=\"1\" class=\"dataframe\">\n",
       "  <thead>\n",
       "    <tr style=\"text-align: right;\">\n",
       "      <th></th>\n",
       "      <th>count</th>\n",
       "    </tr>\n",
       "    <tr>\n",
       "      <th>factor</th>\n",
       "      <th></th>\n",
       "    </tr>\n",
       "  </thead>\n",
       "  <tbody>\n",
       "    <tr>\n",
       "      <th>Office environment or company culture</th>\n",
       "      <td>38478</td>\n",
       "    </tr>\n",
       "    <tr>\n",
       "      <th>Flex time or a flexible schedule</th>\n",
       "      <td>36200</td>\n",
       "    </tr>\n",
       "    <tr>\n",
       "      <th>Opportunities for professional development</th>\n",
       "      <td>34533</td>\n",
       "    </tr>\n",
       "  </tbody>\n",
       "</table>\n",
       "</div>"
      ],
      "text/plain": [
       "                                            count\n",
       "factor                                           \n",
       "Office environment or company culture       38478\n",
       "Flex time or a flexible schedule            36200\n",
       "Opportunities for professional development  34533"
      ]
     },
     "execution_count": 48,
     "metadata": {},
     "output_type": "execute_result"
    }
   ],
   "source": [
    "# top 3 factors for choosig a job named in the question\n",
    "job_factors_df[:3]"
   ]
  },
  {
   "cell_type": "markdown",
   "metadata": {},
   "source": [
    "Call for action HR: \n",
    "- create a good office environment\n",
    "- minimize meetings and non-development tasks- creating of support functions, so the developer can focus on their main tasks"
   ]
  },
  {
   "cell_type": "markdown",
   "metadata": {},
   "source": [
    "### 3. Prepare Data"
   ]
  },
  {
   "cell_type": "markdown",
   "metadata": {},
   "source": [
    "I want to use a multiple linear regression to see which factors have influence on the job resp. the carrer satisfaction - for this I need to first handle missing values (I dont wanna just drop them) and the categorical variables (create dummies)"
   ]
  },
  {
   "cell_type": "code",
   "execution_count": 49,
   "metadata": {},
   "outputs": [
    {
     "data": {
      "text/html": [
       "<div>\n",
       "<style scoped>\n",
       "    .dataframe tbody tr th:only-of-type {\n",
       "        vertical-align: middle;\n",
       "    }\n",
       "\n",
       "    .dataframe tbody tr th {\n",
       "        vertical-align: top;\n",
       "    }\n",
       "\n",
       "    .dataframe thead th {\n",
       "        text-align: right;\n",
       "    }\n",
       "</style>\n",
       "<table border=\"1\" class=\"dataframe\">\n",
       "  <thead>\n",
       "    <tr style=\"text-align: right;\">\n",
       "      <th></th>\n",
       "      <th>Column</th>\n",
       "      <th>QuestionText</th>\n",
       "    </tr>\n",
       "  </thead>\n",
       "  <tbody>\n",
       "    <tr>\n",
       "      <th>0</th>\n",
       "      <td>Respondent</td>\n",
       "      <td>Randomized respondent ID number (not in order ...</td>\n",
       "    </tr>\n",
       "    <tr>\n",
       "      <th>1</th>\n",
       "      <td>MainBranch</td>\n",
       "      <td>Which of the following options best describes ...</td>\n",
       "    </tr>\n",
       "    <tr>\n",
       "      <th>2</th>\n",
       "      <td>Hobbyist</td>\n",
       "      <td>Do you code as a hobby?</td>\n",
       "    </tr>\n",
       "    <tr>\n",
       "      <th>3</th>\n",
       "      <td>OpenSourcer</td>\n",
       "      <td>How often do you contribute to open source?</td>\n",
       "    </tr>\n",
       "    <tr>\n",
       "      <th>4</th>\n",
       "      <td>OpenSource</td>\n",
       "      <td>How do you feel about the quality of open sour...</td>\n",
       "    </tr>\n",
       "    <tr>\n",
       "      <th>5</th>\n",
       "      <td>Employment</td>\n",
       "      <td>Which of the following best describes your cur...</td>\n",
       "    </tr>\n",
       "    <tr>\n",
       "      <th>6</th>\n",
       "      <td>Country</td>\n",
       "      <td>In which country do you currently reside?</td>\n",
       "    </tr>\n",
       "    <tr>\n",
       "      <th>7</th>\n",
       "      <td>Student</td>\n",
       "      <td>Are you currently enrolled in a formal, degree...</td>\n",
       "    </tr>\n",
       "    <tr>\n",
       "      <th>8</th>\n",
       "      <td>EdLevel</td>\n",
       "      <td>Which of the following best describes the high...</td>\n",
       "    </tr>\n",
       "    <tr>\n",
       "      <th>9</th>\n",
       "      <td>UndergradMajor</td>\n",
       "      <td>What was your main or most important field of ...</td>\n",
       "    </tr>\n",
       "    <tr>\n",
       "      <th>10</th>\n",
       "      <td>EduOther</td>\n",
       "      <td>Which of the following types of non-degree edu...</td>\n",
       "    </tr>\n",
       "    <tr>\n",
       "      <th>11</th>\n",
       "      <td>OrgSize</td>\n",
       "      <td>Approximately how many people are employed by ...</td>\n",
       "    </tr>\n",
       "    <tr>\n",
       "      <th>12</th>\n",
       "      <td>DevType</td>\n",
       "      <td>Which of the following describe you? Please se...</td>\n",
       "    </tr>\n",
       "    <tr>\n",
       "      <th>13</th>\n",
       "      <td>YearsCode</td>\n",
       "      <td>Including any education, how many years have y...</td>\n",
       "    </tr>\n",
       "    <tr>\n",
       "      <th>14</th>\n",
       "      <td>Age1stCode</td>\n",
       "      <td>At what age did you write your first line of c...</td>\n",
       "    </tr>\n",
       "    <tr>\n",
       "      <th>15</th>\n",
       "      <td>YearsCodePro</td>\n",
       "      <td>How many years have you coded professionally (...</td>\n",
       "    </tr>\n",
       "    <tr>\n",
       "      <th>16</th>\n",
       "      <td>CareerSat</td>\n",
       "      <td>Overall, how satisfied are you with your caree...</td>\n",
       "    </tr>\n",
       "    <tr>\n",
       "      <th>17</th>\n",
       "      <td>JobSat</td>\n",
       "      <td>How satisfied are you with your current job? (...</td>\n",
       "    </tr>\n",
       "    <tr>\n",
       "      <th>18</th>\n",
       "      <td>MgrIdiot</td>\n",
       "      <td>How confident are you that your manager knows ...</td>\n",
       "    </tr>\n",
       "    <tr>\n",
       "      <th>19</th>\n",
       "      <td>MgrMoney</td>\n",
       "      <td>Do you believe that you need to be a manager t...</td>\n",
       "    </tr>\n",
       "    <tr>\n",
       "      <th>20</th>\n",
       "      <td>MgrWant</td>\n",
       "      <td>Do you want to become a manager yourself in th...</td>\n",
       "    </tr>\n",
       "    <tr>\n",
       "      <th>21</th>\n",
       "      <td>JobSeek</td>\n",
       "      <td>Which of the following best describes your cur...</td>\n",
       "    </tr>\n",
       "    <tr>\n",
       "      <th>22</th>\n",
       "      <td>LastHireDate</td>\n",
       "      <td>When was the last time that you took a job wit...</td>\n",
       "    </tr>\n",
       "    <tr>\n",
       "      <th>23</th>\n",
       "      <td>LastInt</td>\n",
       "      <td>In your most recent successful job interview (...</td>\n",
       "    </tr>\n",
       "    <tr>\n",
       "      <th>24</th>\n",
       "      <td>FizzBuzz</td>\n",
       "      <td>Have you ever been asked to solve FizzBuzz in ...</td>\n",
       "    </tr>\n",
       "    <tr>\n",
       "      <th>25</th>\n",
       "      <td>JobFactors</td>\n",
       "      <td>Imagine that you are deciding between two job ...</td>\n",
       "    </tr>\n",
       "    <tr>\n",
       "      <th>26</th>\n",
       "      <td>ResumeUpdate</td>\n",
       "      <td>Think back to the last time you updated your r...</td>\n",
       "    </tr>\n",
       "    <tr>\n",
       "      <th>27</th>\n",
       "      <td>CurrencySymbol</td>\n",
       "      <td>Which currency do you use day-to-day? If your ...</td>\n",
       "    </tr>\n",
       "    <tr>\n",
       "      <th>28</th>\n",
       "      <td>CurrencyDesc</td>\n",
       "      <td>Which currency do you use day-to-day? If your ...</td>\n",
       "    </tr>\n",
       "    <tr>\n",
       "      <th>29</th>\n",
       "      <td>CompTotal</td>\n",
       "      <td>What is your current total compensation (salar...</td>\n",
       "    </tr>\n",
       "    <tr>\n",
       "      <th>...</th>\n",
       "      <td>...</td>\n",
       "      <td>...</td>\n",
       "    </tr>\n",
       "    <tr>\n",
       "      <th>55</th>\n",
       "      <td>Containers</td>\n",
       "      <td>How do you use containers (Docker, Open Contai...</td>\n",
       "    </tr>\n",
       "    <tr>\n",
       "      <th>56</th>\n",
       "      <td>BlockchainOrg</td>\n",
       "      <td>How is your organization thinking about or imp...</td>\n",
       "    </tr>\n",
       "    <tr>\n",
       "      <th>57</th>\n",
       "      <td>BlockchainIs</td>\n",
       "      <td>Blockchain / cryptocurrency technology is prim...</td>\n",
       "    </tr>\n",
       "    <tr>\n",
       "      <th>58</th>\n",
       "      <td>BetterLife</td>\n",
       "      <td>Do you think people born today will have a bet...</td>\n",
       "    </tr>\n",
       "    <tr>\n",
       "      <th>59</th>\n",
       "      <td>ITperson</td>\n",
       "      <td>Are you the \"IT support person\" for your family?</td>\n",
       "    </tr>\n",
       "    <tr>\n",
       "      <th>60</th>\n",
       "      <td>OffOn</td>\n",
       "      <td>Have you tried turning it off and on again?</td>\n",
       "    </tr>\n",
       "    <tr>\n",
       "      <th>61</th>\n",
       "      <td>SocialMedia</td>\n",
       "      <td>What social media site do you use the most?</td>\n",
       "    </tr>\n",
       "    <tr>\n",
       "      <th>62</th>\n",
       "      <td>Extraversion</td>\n",
       "      <td>Do you prefer online chat or IRL conversations?</td>\n",
       "    </tr>\n",
       "    <tr>\n",
       "      <th>63</th>\n",
       "      <td>ScreenName</td>\n",
       "      <td>What do you call it?</td>\n",
       "    </tr>\n",
       "    <tr>\n",
       "      <th>64</th>\n",
       "      <td>SOVisit1st</td>\n",
       "      <td>To the best of your memory, when did you first...</td>\n",
       "    </tr>\n",
       "    <tr>\n",
       "      <th>65</th>\n",
       "      <td>SOVisitFreq</td>\n",
       "      <td>How frequently would you say you visit Stack O...</td>\n",
       "    </tr>\n",
       "    <tr>\n",
       "      <th>66</th>\n",
       "      <td>SOVisitTo</td>\n",
       "      <td>I visit Stack Overflow to... (check all that a...</td>\n",
       "    </tr>\n",
       "    <tr>\n",
       "      <th>67</th>\n",
       "      <td>SOFindAnswer</td>\n",
       "      <td>On average, how many times a week do you find ...</td>\n",
       "    </tr>\n",
       "    <tr>\n",
       "      <th>68</th>\n",
       "      <td>SOTimeSaved</td>\n",
       "      <td>Think back to the last time you solved a codin...</td>\n",
       "    </tr>\n",
       "    <tr>\n",
       "      <th>69</th>\n",
       "      <td>SOHowMuchTime</td>\n",
       "      <td>About how much time did you save? If you're no...</td>\n",
       "    </tr>\n",
       "    <tr>\n",
       "      <th>70</th>\n",
       "      <td>SOAccount</td>\n",
       "      <td>Do you have a Stack Overflow account?</td>\n",
       "    </tr>\n",
       "    <tr>\n",
       "      <th>71</th>\n",
       "      <td>SOPartFreq</td>\n",
       "      <td>How frequently would you say you participate i...</td>\n",
       "    </tr>\n",
       "    <tr>\n",
       "      <th>72</th>\n",
       "      <td>SOJobs</td>\n",
       "      <td>Have you ever used or visited Stack Overflow J...</td>\n",
       "    </tr>\n",
       "    <tr>\n",
       "      <th>73</th>\n",
       "      <td>EntTeams</td>\n",
       "      <td>Have you ever used Stack Overflow for Enterpri...</td>\n",
       "    </tr>\n",
       "    <tr>\n",
       "      <th>74</th>\n",
       "      <td>SOComm</td>\n",
       "      <td>Do you consider yourself a member of the Stack...</td>\n",
       "    </tr>\n",
       "    <tr>\n",
       "      <th>75</th>\n",
       "      <td>WelcomeChange</td>\n",
       "      <td>Compared to last year, how welcome do you feel...</td>\n",
       "    </tr>\n",
       "    <tr>\n",
       "      <th>76</th>\n",
       "      <td>SONewContent</td>\n",
       "      <td>Would you like to see any of the following on ...</td>\n",
       "    </tr>\n",
       "    <tr>\n",
       "      <th>77</th>\n",
       "      <td>Age</td>\n",
       "      <td>What is your age (in years)? If you prefer not...</td>\n",
       "    </tr>\n",
       "    <tr>\n",
       "      <th>78</th>\n",
       "      <td>Gender</td>\n",
       "      <td>Which of the following do you currently identi...</td>\n",
       "    </tr>\n",
       "    <tr>\n",
       "      <th>79</th>\n",
       "      <td>Trans</td>\n",
       "      <td>Do you identify as transgender?</td>\n",
       "    </tr>\n",
       "    <tr>\n",
       "      <th>80</th>\n",
       "      <td>Sexuality</td>\n",
       "      <td>Which of the following do you currently identi...</td>\n",
       "    </tr>\n",
       "    <tr>\n",
       "      <th>81</th>\n",
       "      <td>Ethnicity</td>\n",
       "      <td>Which of the following do you identify as? Ple...</td>\n",
       "    </tr>\n",
       "    <tr>\n",
       "      <th>82</th>\n",
       "      <td>Dependents</td>\n",
       "      <td>Do you have any dependents (e.g., children, el...</td>\n",
       "    </tr>\n",
       "    <tr>\n",
       "      <th>83</th>\n",
       "      <td>SurveyLength</td>\n",
       "      <td>How do you feel about the length of the survey...</td>\n",
       "    </tr>\n",
       "    <tr>\n",
       "      <th>84</th>\n",
       "      <td>SurveyEase</td>\n",
       "      <td>How easy or difficult was this survey to compl...</td>\n",
       "    </tr>\n",
       "  </tbody>\n",
       "</table>\n",
       "<p>85 rows × 2 columns</p>\n",
       "</div>"
      ],
      "text/plain": [
       "            Column                                       QuestionText\n",
       "0       Respondent  Randomized respondent ID number (not in order ...\n",
       "1       MainBranch  Which of the following options best describes ...\n",
       "2         Hobbyist                            Do you code as a hobby?\n",
       "3      OpenSourcer        How often do you contribute to open source?\n",
       "4       OpenSource  How do you feel about the quality of open sour...\n",
       "5       Employment  Which of the following best describes your cur...\n",
       "6          Country          In which country do you currently reside?\n",
       "7          Student  Are you currently enrolled in a formal, degree...\n",
       "8          EdLevel  Which of the following best describes the high...\n",
       "9   UndergradMajor  What was your main or most important field of ...\n",
       "10        EduOther  Which of the following types of non-degree edu...\n",
       "11         OrgSize  Approximately how many people are employed by ...\n",
       "12         DevType  Which of the following describe you? Please se...\n",
       "13       YearsCode  Including any education, how many years have y...\n",
       "14      Age1stCode  At what age did you write your first line of c...\n",
       "15    YearsCodePro  How many years have you coded professionally (...\n",
       "16       CareerSat  Overall, how satisfied are you with your caree...\n",
       "17          JobSat  How satisfied are you with your current job? (...\n",
       "18        MgrIdiot  How confident are you that your manager knows ...\n",
       "19        MgrMoney  Do you believe that you need to be a manager t...\n",
       "20         MgrWant  Do you want to become a manager yourself in th...\n",
       "21         JobSeek  Which of the following best describes your cur...\n",
       "22    LastHireDate  When was the last time that you took a job wit...\n",
       "23         LastInt  In your most recent successful job interview (...\n",
       "24        FizzBuzz  Have you ever been asked to solve FizzBuzz in ...\n",
       "25      JobFactors  Imagine that you are deciding between two job ...\n",
       "26    ResumeUpdate  Think back to the last time you updated your r...\n",
       "27  CurrencySymbol  Which currency do you use day-to-day? If your ...\n",
       "28    CurrencyDesc  Which currency do you use day-to-day? If your ...\n",
       "29       CompTotal  What is your current total compensation (salar...\n",
       "..             ...                                                ...\n",
       "55      Containers  How do you use containers (Docker, Open Contai...\n",
       "56   BlockchainOrg  How is your organization thinking about or imp...\n",
       "57    BlockchainIs  Blockchain / cryptocurrency technology is prim...\n",
       "58      BetterLife  Do you think people born today will have a bet...\n",
       "59        ITperson   Are you the \"IT support person\" for your family?\n",
       "60           OffOn        Have you tried turning it off and on again?\n",
       "61     SocialMedia        What social media site do you use the most?\n",
       "62    Extraversion    Do you prefer online chat or IRL conversations?\n",
       "63      ScreenName                               What do you call it?\n",
       "64      SOVisit1st  To the best of your memory, when did you first...\n",
       "65     SOVisitFreq  How frequently would you say you visit Stack O...\n",
       "66       SOVisitTo  I visit Stack Overflow to... (check all that a...\n",
       "67    SOFindAnswer  On average, how many times a week do you find ...\n",
       "68     SOTimeSaved  Think back to the last time you solved a codin...\n",
       "69   SOHowMuchTime  About how much time did you save? If you're no...\n",
       "70       SOAccount              Do you have a Stack Overflow account?\n",
       "71      SOPartFreq  How frequently would you say you participate i...\n",
       "72          SOJobs  Have you ever used or visited Stack Overflow J...\n",
       "73        EntTeams  Have you ever used Stack Overflow for Enterpri...\n",
       "74          SOComm  Do you consider yourself a member of the Stack...\n",
       "75   WelcomeChange  Compared to last year, how welcome do you feel...\n",
       "76    SONewContent  Would you like to see any of the following on ...\n",
       "77             Age  What is your age (in years)? If you prefer not...\n",
       "78          Gender  Which of the following do you currently identi...\n",
       "79           Trans                    Do you identify as transgender?\n",
       "80       Sexuality  Which of the following do you currently identi...\n",
       "81       Ethnicity  Which of the following do you identify as? Ple...\n",
       "82      Dependents  Do you have any dependents (e.g., children, el...\n",
       "83    SurveyLength  How do you feel about the length of the survey...\n",
       "84      SurveyEase  How easy or difficult was this survey to compl...\n",
       "\n",
       "[85 rows x 2 columns]"
      ]
     },
     "execution_count": 49,
     "metadata": {},
     "output_type": "execute_result"
    }
   ],
   "source": [
    "survey_schmema"
   ]
  },
  {
   "cell_type": "markdown",
   "metadata": {},
   "source": [
    "I will include the following independent variables (x) in my regression:\n",
    "- Hobbyist\n",
    "- OpenSourcer\n",
    "- Employment\n",
    "- WorkRemote\n",
    "- ConvertedComp\n",
    "- OrgSize\n",
    "- MgrIdiot\n",
    "- WorkPlan\n",
    "- PurchaseWhat"
   ]
  },
  {
   "cell_type": "code",
   "execution_count": 50,
   "metadata": {
    "scrolled": true
   },
   "outputs": [
    {
     "name": "stdout",
     "output_type": "stream",
     "text": [
      "(88883, 12)\n"
     ]
    }
   ],
   "source": [
    "# creating a new df that just includes the variables that I want to have in the regression\n",
    "survey_reg = survey_df[[\"Respondent\",\"Hobbyist\", \"OpenSourcer\", \"Employment\", \"WorkRemote\", \"ConvertedComp\", \"OrgSize\", \"MgrIdiot\", \"WorkPlan\", \"PurchaseWhat\", \"CarrerSat_num\", \"JobSat_num\"]]\n",
    "# sanity check\n",
    "print(survey_reg.shape)"
   ]
  },
  {
   "cell_type": "code",
   "execution_count": 51,
   "metadata": {},
   "outputs": [
    {
     "name": "stdout",
     "output_type": "stream",
     "text": [
      "Just the following columns have no missing values: {'OpenSourcer', 'Respondent', 'Hobbyist'}\n"
     ]
    }
   ],
   "source": [
    "#set of columns that doesnt have missing values\n",
    "no_missing_values = set(survey_reg.columns[survey_reg.isnull().mean()==0])\n",
    "print('Just the following columns have no missing values: {}'.format(no_missing_values))"
   ]
  },
  {
   "cell_type": "code",
   "execution_count": 52,
   "metadata": {
    "scrolled": true
   },
   "outputs": [
    {
     "data": {
      "text/plain": [
       "ConvertedComp    0.371950\n",
       "MgrIdiot         0.311916\n",
       "PurchaseWhat     0.302128\n",
       "WorkPlan         0.224666\n",
       "WorkRemote       0.209253\n",
       "JobSat_num       0.201332\n",
       "OrgSize          0.192298\n",
       "CarrerSat_num    0.180417\n",
       "Employment       0.019149\n",
       "OpenSourcer      0.000000\n",
       "Hobbyist         0.000000\n",
       "Respondent       0.000000\n",
       "dtype: float64"
      ]
     },
     "execution_count": 52,
     "metadata": {},
     "output_type": "execute_result"
    }
   ],
   "source": [
    "# lets have look at which coloums have the highest amount of missing data\n",
    "survey_reg.isnull().mean().sort_values(ascending=False)"
   ]
  },
  {
   "cell_type": "code",
   "execution_count": 53,
   "metadata": {},
   "outputs": [
    {
     "name": "stdout",
     "output_type": "stream",
     "text": [
      "Total amount of missing values in %: 16.78\n"
     ]
    }
   ],
   "source": [
    "# total amount of missing values in %\n",
    "survey_reg.isnull().mean().mean()*100\n",
    "print('Total amount of missing values in %: {}'.format((survey_reg.isnull().mean().mean()*100).round(2)))"
   ]
  },
  {
   "cell_type": "code",
   "execution_count": 54,
   "metadata": {},
   "outputs": [
    {
     "name": "stdout",
     "output_type": "stream",
     "text": [
      "6.9 % of the columns (6 columns) have more than 20% missing values\n"
     ]
    }
   ],
   "source": [
    "# lets have a look at the columns that have more than 20% missing values\n",
    "over_20 = (survey_reg.columns[survey_reg.isnull().mean() > .2]).value_counts().sum()\n",
    "print('{} % of the columns ({} columns) have more than 20% missing values'.format(((over_20/survey_df.shape[1]* 100)).round(2), over_20))"
   ]
  },
  {
   "cell_type": "markdown",
   "metadata": {},
   "source": [
    "I will in the next step take care of the missing values by imputing the missing numerical values"
   ]
  },
  {
   "cell_type": "markdown",
   "metadata": {},
   "source": [
    "### 3. Prepare Data"
   ]
  },
  {
   "cell_type": "code",
   "execution_count": 55,
   "metadata": {},
   "outputs": [
    {
     "data": {
      "text/html": [
       "<div>\n",
       "<style scoped>\n",
       "    .dataframe tbody tr th:only-of-type {\n",
       "        vertical-align: middle;\n",
       "    }\n",
       "\n",
       "    .dataframe tbody tr th {\n",
       "        vertical-align: top;\n",
       "    }\n",
       "\n",
       "    .dataframe thead th {\n",
       "        text-align: right;\n",
       "    }\n",
       "</style>\n",
       "<table border=\"1\" class=\"dataframe\">\n",
       "  <thead>\n",
       "    <tr style=\"text-align: right;\">\n",
       "      <th></th>\n",
       "      <th>Respondent</th>\n",
       "      <th>ConvertedComp</th>\n",
       "    </tr>\n",
       "  </thead>\n",
       "  <tbody>\n",
       "    <tr>\n",
       "      <th>0</th>\n",
       "      <td>1</td>\n",
       "      <td>127110.738423</td>\n",
       "    </tr>\n",
       "    <tr>\n",
       "      <th>1</th>\n",
       "      <td>2</td>\n",
       "      <td>127110.738423</td>\n",
       "    </tr>\n",
       "    <tr>\n",
       "      <th>2</th>\n",
       "      <td>3</td>\n",
       "      <td>8820.000000</td>\n",
       "    </tr>\n",
       "    <tr>\n",
       "      <th>3</th>\n",
       "      <td>4</td>\n",
       "      <td>61000.000000</td>\n",
       "    </tr>\n",
       "    <tr>\n",
       "      <th>4</th>\n",
       "      <td>5</td>\n",
       "      <td>127110.738423</td>\n",
       "    </tr>\n",
       "  </tbody>\n",
       "</table>\n",
       "</div>"
      ],
      "text/plain": [
       "   Respondent  ConvertedComp\n",
       "0           1  127110.738423\n",
       "1           2  127110.738423\n",
       "2           3    8820.000000\n",
       "3           4   61000.000000\n",
       "4           5  127110.738423"
      ]
     },
     "execution_count": 55,
     "metadata": {},
     "output_type": "execute_result"
    }
   ],
   "source": [
    "# imputing the missing variables of the numerical variables with the mean\n",
    "\n",
    "# Mean function\n",
    "fill_mode = lambda col: col.fillna(col.mean()) # Mean function\n",
    "\n",
    "# Fill all missing values with the mean of the column.\n",
    "fill_survey_reg_num = survey_reg[['Respondent','ConvertedComp']].apply(fill_mode, axis=0) \n",
    "\n",
    "# sanity check\n",
    "fill_survey_reg_num.head()"
   ]
  },
  {
   "cell_type": "code",
   "execution_count": 56,
   "metadata": {},
   "outputs": [
    {
     "data": {
      "text/plain": [
       "JobSat_num       0.0\n",
       "CarrerSat_num    0.0\n",
       "MgrIdiot         0.0\n",
       "PurchaseWhat     0.0\n",
       "WorkRemote       0.0\n",
       "OrgSize          0.0\n",
       "Employment       0.0\n",
       "OpenSourcer      0.0\n",
       "Respondent       0.0\n",
       "Hobbyist         0.0\n",
       "dtype: float64"
      ]
     },
     "execution_count": 56,
     "metadata": {},
     "output_type": "execute_result"
    }
   ],
   "source": [
    "# imputing the missing variables of the categorical variables with the mean\n",
    "\n",
    "# Mean function\n",
    "fill_mode = lambda col: col.fillna(col.mode()[0]) # Mean function\n",
    "\n",
    "# Fill all missing values with the mean of the column.\n",
    "fill_survey_reg_cat = survey_reg[['JobSat_num','CarrerSat_num','MgrIdiot', 'PurchaseWhat', 'WorkRemote', 'OrgSize', 'Employment', 'OpenSourcer', 'Respondent', 'Hobbyist']].apply(fill_mode, axis=0)\n",
    "\n",
    "\n",
    "# sanity check\n",
    "fill_survey_reg_cat.isnull().mean()"
   ]
  },
  {
   "cell_type": "code",
   "execution_count": 57,
   "metadata": {},
   "outputs": [],
   "source": [
    "# in the next step I need to create dummy variabels for the categorical variables in order to perform the regression\n",
    "fill_survey_reg_cat_dummies = pd.get_dummies(fill_survey_reg_cat, prefix_sep='_', drop_first=True)"
   ]
  },
  {
   "cell_type": "code",
   "execution_count": 58,
   "metadata": {},
   "outputs": [
    {
     "data": {
      "text/plain": [
       "Index(['ConvertedComp', 'JobSat_num', 'CarrerSat_num',\n",
       "       'MgrIdiot_Not at all confident', 'MgrIdiot_Somewhat confident',\n",
       "       'MgrIdiot_Very confident', 'PurchaseWhat_I have little or no influence',\n",
       "       'PurchaseWhat_I have some influence', 'WorkRemote_About half the time',\n",
       "       'WorkRemote_All or almost all the time', 'WorkRemote_Its complicated',\n",
       "       'WorkRemote_Less than half the time, but at least one day each week',\n",
       "       'WorkRemote_Less than once per month_Never',\n",
       "       'WorkRemote_More than half, but not all, the time',\n",
       "       'OrgSize_10 to 19 employees', 'OrgSize_10,000 or more employees',\n",
       "       'OrgSize_100 to 499 employees', 'OrgSize_2-9 employees',\n",
       "       'OrgSize_20 to 99 employees', 'OrgSize_5,000 to 9,999 employees',\n",
       "       'OrgSize_500 to 999 employees', 'OrgSize_Just me',\n",
       "       'Employment_Employed part-time',\n",
       "       'Employment_Independent contractor, freelancer, or self-employed',\n",
       "       'Employment_Not employed, and not looking for work',\n",
       "       'Employment_Not employed, but looking for work', 'Employment_Retired',\n",
       "       'OpenSourcer_Less than once per year', 'OpenSourcer_Never',\n",
       "       'OpenSourcer_Once a month or more often', 'Hobbyist_Yes'],\n",
       "      dtype='object')"
      ]
     },
     "execution_count": 58,
     "metadata": {},
     "output_type": "execute_result"
    }
   ],
   "source": [
    "# now I merge the two df fill_survey_reg_cat & fill_survey_reg_num into one df\n",
    "df_final = pd.concat([fill_survey_reg_num, fill_survey_reg_cat_dummies], axis=1)\n",
    "#dropping the respondents columns\n",
    "df_final = df_final.drop(df_final.Respondent, axis=1)\n",
    "#changing some column names in order to calculate the VIFs later\n",
    "df_final.rename(columns={\"WorkRemote_All or almost all the time (I'm full-time remote)\": \"WorkRemote_All or almost all the time\",\"WorkRemote_Less than once per month / Never\": \"WorkRemote_Less than once per month_Never\", \"OrgSize_Just me - I am a freelancer, sole proprietor, etc.\" : \"OrgSize_Just me\", \"WorkRemote_It's complicated\": \"WorkRemote_Its complicated\"}, inplace=True)\n",
    "#sanity check\n",
    "df_final.columns"
   ]
  },
  {
   "cell_type": "markdown",
   "metadata": {},
   "source": [
    "### 4. Data Modeling"
   ]
  },
  {
   "cell_type": "markdown",
   "metadata": {},
   "source": [
    "### What correlates/ influences the most with the satisfication of emlpoyess?"
   ]
  },
  {
   "cell_type": "markdown",
   "metadata": {},
   "source": [
    "I will use a multiple regression to see which factors have influence on the job resp. the carrer satisfaction"
   ]
  },
  {
   "cell_type": "code",
   "execution_count": 59,
   "metadata": {},
   "outputs": [
    {
     "data": {
      "text/html": [
       "<div>\n",
       "<style scoped>\n",
       "    .dataframe tbody tr th:only-of-type {\n",
       "        vertical-align: middle;\n",
       "    }\n",
       "\n",
       "    .dataframe tbody tr th {\n",
       "        vertical-align: top;\n",
       "    }\n",
       "\n",
       "    .dataframe thead th {\n",
       "        text-align: right;\n",
       "    }\n",
       "</style>\n",
       "<table border=\"1\" class=\"dataframe\">\n",
       "  <thead>\n",
       "    <tr style=\"text-align: right;\">\n",
       "      <th></th>\n",
       "      <th>VIF Factor</th>\n",
       "      <th>features</th>\n",
       "    </tr>\n",
       "  </thead>\n",
       "  <tbody>\n",
       "    <tr>\n",
       "      <th>0</th>\n",
       "      <td>72.717611</td>\n",
       "      <td>Intercept</td>\n",
       "    </tr>\n",
       "    <tr>\n",
       "      <th>1</th>\n",
       "      <td>5.059478</td>\n",
       "      <td>MgrIdiot[T.Not at all confident]</td>\n",
       "    </tr>\n",
       "    <tr>\n",
       "      <th>2</th>\n",
       "      <td>11.070781</td>\n",
       "      <td>MgrIdiot[T.Somewhat confident]</td>\n",
       "    </tr>\n",
       "    <tr>\n",
       "      <th>3</th>\n",
       "      <td>9.384947</td>\n",
       "      <td>MgrIdiot[T.Very confident]</td>\n",
       "    </tr>\n",
       "    <tr>\n",
       "      <th>4</th>\n",
       "      <td>2.852038</td>\n",
       "      <td>PurchaseWhat[T.I have little or no influence]</td>\n",
       "    </tr>\n",
       "    <tr>\n",
       "      <th>5</th>\n",
       "      <td>2.412437</td>\n",
       "      <td>PurchaseWhat[T.I have some influence]</td>\n",
       "    </tr>\n",
       "    <tr>\n",
       "      <th>6</th>\n",
       "      <td>1.099884</td>\n",
       "      <td>WorkRemote[T.About half the time]</td>\n",
       "    </tr>\n",
       "    <tr>\n",
       "      <th>7</th>\n",
       "      <td>1.522454</td>\n",
       "      <td>WorkRemote[T.All or almost all the time (I'm f...</td>\n",
       "    </tr>\n",
       "    <tr>\n",
       "      <th>8</th>\n",
       "      <td>1.180210</td>\n",
       "      <td>WorkRemote[T.It's complicated]</td>\n",
       "    </tr>\n",
       "    <tr>\n",
       "      <th>9</th>\n",
       "      <td>1.271492</td>\n",
       "      <td>WorkRemote[T.Less than half the time, but at l...</td>\n",
       "    </tr>\n",
       "    <tr>\n",
       "      <th>10</th>\n",
       "      <td>1.924245</td>\n",
       "      <td>WorkRemote[T.Less than once per month / Never]</td>\n",
       "    </tr>\n",
       "    <tr>\n",
       "      <th>11</th>\n",
       "      <td>1.126645</td>\n",
       "      <td>WorkRemote[T.More than half, but not all, the ...</td>\n",
       "    </tr>\n",
       "    <tr>\n",
       "      <th>12</th>\n",
       "      <td>1.803547</td>\n",
       "      <td>OrgSize[T.10 to 19 employees]</td>\n",
       "    </tr>\n",
       "    <tr>\n",
       "      <th>13</th>\n",
       "      <td>2.088903</td>\n",
       "      <td>OrgSize[T.10,000 or more employees]</td>\n",
       "    </tr>\n",
       "    <tr>\n",
       "      <th>14</th>\n",
       "      <td>2.322465</td>\n",
       "      <td>OrgSize[T.100 to 499 employees]</td>\n",
       "    </tr>\n",
       "    <tr>\n",
       "      <th>15</th>\n",
       "      <td>1.985382</td>\n",
       "      <td>OrgSize[T.2-9 employees]</td>\n",
       "    </tr>\n",
       "    <tr>\n",
       "      <th>16</th>\n",
       "      <td>3.743228</td>\n",
       "      <td>OrgSize[T.20 to 99 employees]</td>\n",
       "    </tr>\n",
       "    <tr>\n",
       "      <th>17</th>\n",
       "      <td>1.350567</td>\n",
       "      <td>OrgSize[T.5,000 to 9,999 employees]</td>\n",
       "    </tr>\n",
       "    <tr>\n",
       "      <th>18</th>\n",
       "      <td>1.526059</td>\n",
       "      <td>OrgSize[T.500 to 999 employees]</td>\n",
       "    </tr>\n",
       "    <tr>\n",
       "      <th>19</th>\n",
       "      <td>2.227365</td>\n",
       "      <td>OrgSize[T.Just me - I am a freelancer, sole pr...</td>\n",
       "    </tr>\n",
       "    <tr>\n",
       "      <th>20</th>\n",
       "      <td>1.059872</td>\n",
       "      <td>Employment[T.Employed part-time]</td>\n",
       "    </tr>\n",
       "    <tr>\n",
       "      <th>21</th>\n",
       "      <td>2.016934</td>\n",
       "      <td>Employment[T.Independent contractor, freelance...</td>\n",
       "    </tr>\n",
       "    <tr>\n",
       "      <th>22</th>\n",
       "      <td>1.247142</td>\n",
       "      <td>Employment[T.Not employed, and not looking for...</td>\n",
       "    </tr>\n",
       "    <tr>\n",
       "      <th>23</th>\n",
       "      <td>1.349980</td>\n",
       "      <td>Employment[T.Not employed, but looking for work]</td>\n",
       "    </tr>\n",
       "    <tr>\n",
       "      <th>24</th>\n",
       "      <td>1.023892</td>\n",
       "      <td>Employment[T.Retired]</td>\n",
       "    </tr>\n",
       "    <tr>\n",
       "      <th>25</th>\n",
       "      <td>1.605838</td>\n",
       "      <td>OpenSourcer[T.Less than once per year]</td>\n",
       "    </tr>\n",
       "    <tr>\n",
       "      <th>26</th>\n",
       "      <td>1.736182</td>\n",
       "      <td>OpenSourcer[T.Never]</td>\n",
       "    </tr>\n",
       "    <tr>\n",
       "      <th>27</th>\n",
       "      <td>1.352734</td>\n",
       "      <td>OpenSourcer[T.Once a month or more often]</td>\n",
       "    </tr>\n",
       "    <tr>\n",
       "      <th>28</th>\n",
       "      <td>1.048517</td>\n",
       "      <td>Hobbyist[T.Yes]</td>\n",
       "    </tr>\n",
       "  </tbody>\n",
       "</table>\n",
       "</div>"
      ],
      "text/plain": [
       "    VIF Factor                                           features\n",
       "0    72.717611                                          Intercept\n",
       "1     5.059478                   MgrIdiot[T.Not at all confident]\n",
       "2    11.070781                     MgrIdiot[T.Somewhat confident]\n",
       "3     9.384947                         MgrIdiot[T.Very confident]\n",
       "4     2.852038      PurchaseWhat[T.I have little or no influence]\n",
       "5     2.412437              PurchaseWhat[T.I have some influence]\n",
       "6     1.099884                  WorkRemote[T.About half the time]\n",
       "7     1.522454  WorkRemote[T.All or almost all the time (I'm f...\n",
       "8     1.180210                     WorkRemote[T.It's complicated]\n",
       "9     1.271492  WorkRemote[T.Less than half the time, but at l...\n",
       "10    1.924245     WorkRemote[T.Less than once per month / Never]\n",
       "11    1.126645  WorkRemote[T.More than half, but not all, the ...\n",
       "12    1.803547                      OrgSize[T.10 to 19 employees]\n",
       "13    2.088903                OrgSize[T.10,000 or more employees]\n",
       "14    2.322465                    OrgSize[T.100 to 499 employees]\n",
       "15    1.985382                           OrgSize[T.2-9 employees]\n",
       "16    3.743228                      OrgSize[T.20 to 99 employees]\n",
       "17    1.350567                OrgSize[T.5,000 to 9,999 employees]\n",
       "18    1.526059                    OrgSize[T.500 to 999 employees]\n",
       "19    2.227365  OrgSize[T.Just me - I am a freelancer, sole pr...\n",
       "20    1.059872                   Employment[T.Employed part-time]\n",
       "21    2.016934  Employment[T.Independent contractor, freelance...\n",
       "22    1.247142  Employment[T.Not employed, and not looking for...\n",
       "23    1.349980   Employment[T.Not employed, but looking for work]\n",
       "24    1.023892                              Employment[T.Retired]\n",
       "25    1.605838             OpenSourcer[T.Less than once per year]\n",
       "26    1.736182                               OpenSourcer[T.Never]\n",
       "27    1.352734          OpenSourcer[T.Once a month or more often]\n",
       "28    1.048517                                    Hobbyist[T.Yes]"
      ]
     },
     "execution_count": 59,
     "metadata": {},
     "output_type": "execute_result"
    }
   ],
   "source": [
    "# since some coefficients were positiv where I would expect a negativ correlation I will check for Multicollinearity\n",
    "# get y and X dataframes based on this regression:\n",
    "y, X = dmatrices(\"JobSat_num ~  MgrIdiot + PurchaseWhat + WorkRemote + OrgSize + Employment + OpenSourcer + Hobbyist\", fill_survey_reg_cat, return_type='dataframe')\n",
    "# For each X, calculate VIF and save in dataframe\n",
    "vif_job = pd.DataFrame()\n",
    "vif_job[\"VIF Factor\"] = [variance_inflation_factor(X.values, i) for i in range(X.shape[1])]\n",
    "vif_job[\"features\"] = X.columns\n",
    "vif_job"
   ]
  },
  {
   "cell_type": "markdown",
   "metadata": {},
   "source": [
    "Based on the VIfs, I will remove the variable MgrIdiot from the regressions"
   ]
  },
  {
   "cell_type": "code",
   "execution_count": 60,
   "metadata": {},
   "outputs": [],
   "source": [
    "# dropping Mgridiot\n",
    "df_final = df_final.drop(['MgrIdiot_Not at all confident', 'MgrIdiot_Somewhat confident','MgrIdiot_Very confident', 'PurchaseWhat_I have little or no influence'], axis = 1)"
   ]
  },
  {
   "cell_type": "code",
   "execution_count": 61,
   "metadata": {},
   "outputs": [
    {
     "name": "stdout",
     "output_type": "stream",
     "text": [
      "(88883, 25) (88883,)\n"
     ]
    },
    {
     "data": {
      "text/plain": [
       "Index(['ConvertedComp', 'PurchaseWhat_I have some influence',\n",
       "       'WorkRemote_About half the time',\n",
       "       'WorkRemote_All or almost all the time', 'WorkRemote_Its complicated',\n",
       "       'WorkRemote_Less than half the time, but at least one day each week',\n",
       "       'WorkRemote_Less than once per month_Never',\n",
       "       'WorkRemote_More than half, but not all, the time',\n",
       "       'OrgSize_10 to 19 employees', 'OrgSize_10,000 or more employees',\n",
       "       'OrgSize_100 to 499 employees', 'OrgSize_2-9 employees',\n",
       "       'OrgSize_20 to 99 employees', 'OrgSize_5,000 to 9,999 employees',\n",
       "       'OrgSize_500 to 999 employees', 'OrgSize_Just me',\n",
       "       'Employment_Employed part-time',\n",
       "       'Employment_Independent contractor, freelancer, or self-employed',\n",
       "       'Employment_Not employed, and not looking for work',\n",
       "       'Employment_Not employed, but looking for work', 'Employment_Retired',\n",
       "       'OpenSourcer_Less than once per year', 'OpenSourcer_Never',\n",
       "       'OpenSourcer_Once a month or more often', 'Hobbyist_Yes'],\n",
       "      dtype='object')"
      ]
     },
     "execution_count": 61,
     "metadata": {},
     "output_type": "execute_result"
    }
   ],
   "source": [
    "# creating a df with just the x variables and a df with just the y variabels\n",
    "X = df_final.drop(df_final[['JobSat_num','CarrerSat_num']], axis=1)\n",
    "y_JobSat = df_final['JobSat_num']\n",
    "y_CarrerSat = df_final['CarrerSat_num']\n",
    "\n",
    "print(X.shape, y_JobSat.shape)\n",
    "X.columns"
   ]
  },
  {
   "cell_type": "code",
   "execution_count": 62,
   "metadata": {},
   "outputs": [
    {
     "data": {
      "text/html": [
       "<table class=\"simpletable\">\n",
       "<caption>OLS Regression Results</caption>\n",
       "<tr>\n",
       "  <th>Dep. Variable:</th>       <td>JobSat_num</td>    <th>  R-squared:         </th>  <td>   0.019</td>  \n",
       "</tr>\n",
       "<tr>\n",
       "  <th>Model:</th>                   <td>OLS</td>       <th>  Adj. R-squared:    </th>  <td>   0.019</td>  \n",
       "</tr>\n",
       "<tr>\n",
       "  <th>Method:</th>             <td>Least Squares</td>  <th>  F-statistic:       </th>  <td>   68.79</td>  \n",
       "</tr>\n",
       "<tr>\n",
       "  <th>Date:</th>             <td>Tue, 16 Jul 2019</td> <th>  Prob (F-statistic):</th>   <td>  0.00</td>   \n",
       "</tr>\n",
       "<tr>\n",
       "  <th>Time:</th>                 <td>08:48:09</td>     <th>  Log-Likelihood:    </th> <td>-1.3358e+05</td>\n",
       "</tr>\n",
       "<tr>\n",
       "  <th>No. Observations:</th>      <td> 88883</td>      <th>  AIC:               </th>  <td>2.672e+05</td> \n",
       "</tr>\n",
       "<tr>\n",
       "  <th>Df Residuals:</th>          <td> 88857</td>      <th>  BIC:               </th>  <td>2.674e+05</td> \n",
       "</tr>\n",
       "<tr>\n",
       "  <th>Df Model:</th>              <td>    25</td>      <th>                     </th>      <td> </td>     \n",
       "</tr>\n",
       "<tr>\n",
       "  <th>Covariance Type:</th>      <td>nonrobust</td>    <th>                     </th>      <td> </td>     \n",
       "</tr>\n",
       "</table>\n",
       "<table class=\"simpletable\">\n",
       "<tr>\n",
       "                                   <td></td>                                     <th>coef</th>     <th>std err</th>      <th>t</th>      <th>P>|t|</th>  <th>[0.025</th>    <th>0.975]</th>  \n",
       "</tr>\n",
       "<tr>\n",
       "  <th>ConvertedComp</th>                                                      <td> 1.751e-07</td> <td> 1.63e-08</td> <td>   10.756</td> <td> 0.000</td> <td> 1.43e-07</td> <td> 2.07e-07</td>\n",
       "</tr>\n",
       "<tr>\n",
       "  <th>PurchaseWhat_I have some influence</th>                                 <td>    0.1328</td> <td>    0.009</td> <td>   15.215</td> <td> 0.000</td> <td>    0.116</td> <td>    0.150</td>\n",
       "</tr>\n",
       "<tr>\n",
       "  <th>WorkRemote_About half the time</th>                                     <td>   -0.1563</td> <td>    0.026</td> <td>   -6.038</td> <td> 0.000</td> <td>   -0.207</td> <td>   -0.106</td>\n",
       "</tr>\n",
       "<tr>\n",
       "  <th>WorkRemote_All or almost all the time</th>                              <td>    0.0090</td> <td>    0.015</td> <td>    0.584</td> <td> 0.559</td> <td>   -0.021</td> <td>    0.039</td>\n",
       "</tr>\n",
       "<tr>\n",
       "  <th>WorkRemote_Its complicated</th>                                         <td>   -0.3973</td> <td>    0.020</td> <td>  -19.979</td> <td> 0.000</td> <td>   -0.436</td> <td>   -0.358</td>\n",
       "</tr>\n",
       "<tr>\n",
       "  <th>WorkRemote_Less than half the time, but at least one day each week</th> <td>   -0.0162</td> <td>    0.016</td> <td>   -1.014</td> <td> 0.311</td> <td>   -0.048</td> <td>    0.015</td>\n",
       "</tr>\n",
       "<tr>\n",
       "  <th>WorkRemote_Less than once per month_Never</th>                          <td>   -0.1054</td> <td>    0.010</td> <td>  -10.433</td> <td> 0.000</td> <td>   -0.125</td> <td>   -0.086</td>\n",
       "</tr>\n",
       "<tr>\n",
       "  <th>WorkRemote_More than half, but not all, the time</th>                   <td>   -0.1487</td> <td>    0.024</td> <td>   -6.198</td> <td> 0.000</td> <td>   -0.196</td> <td>   -0.102</td>\n",
       "</tr>\n",
       "<tr>\n",
       "  <th>OrgSize_10 to 19 employees</th>                                         <td>   -0.0448</td> <td>    0.018</td> <td>   -2.451</td> <td> 0.014</td> <td>   -0.081</td> <td>   -0.009</td>\n",
       "</tr>\n",
       "<tr>\n",
       "  <th>OrgSize_10,000 or more employees</th>                                   <td>   -0.0535</td> <td>    0.017</td> <td>   -3.226</td> <td> 0.001</td> <td>   -0.086</td> <td>   -0.021</td>\n",
       "</tr>\n",
       "<tr>\n",
       "  <th>OrgSize_100 to 499 employees</th>                                       <td>   -0.0072</td> <td>    0.016</td> <td>   -0.455</td> <td> 0.649</td> <td>   -0.038</td> <td>    0.024</td>\n",
       "</tr>\n",
       "<tr>\n",
       "  <th>OrgSize_2-9 employees</th>                                              <td>   -0.0110</td> <td>    0.018</td> <td>   -0.604</td> <td> 0.546</td> <td>   -0.047</td> <td>    0.025</td>\n",
       "</tr>\n",
       "<tr>\n",
       "  <th>OrgSize_20 to 99 employees</th>                                         <td>    0.0374</td> <td>    0.015</td> <td>    2.558</td> <td> 0.011</td> <td>    0.009</td> <td>    0.066</td>\n",
       "</tr>\n",
       "<tr>\n",
       "  <th>OrgSize_5,000 to 9,999 employees</th>                                   <td>   -0.0257</td> <td>    0.024</td> <td>   -1.092</td> <td> 0.275</td> <td>   -0.072</td> <td>    0.020</td>\n",
       "</tr>\n",
       "<tr>\n",
       "  <th>OrgSize_500 to 999 employees</th>                                       <td>    0.0004</td> <td>    0.020</td> <td>    0.018</td> <td> 0.985</td> <td>   -0.040</td> <td>    0.040</td>\n",
       "</tr>\n",
       "<tr>\n",
       "  <th>OrgSize_Just me</th>                                                    <td>   -0.1345</td> <td>    0.025</td> <td>   -5.357</td> <td> 0.000</td> <td>   -0.184</td> <td>   -0.085</td>\n",
       "</tr>\n",
       "<tr>\n",
       "  <th>Employment_Employed part-time</th>                                      <td>    0.0864</td> <td>    0.017</td> <td>    5.056</td> <td> 0.000</td> <td>    0.053</td> <td>    0.120</td>\n",
       "</tr>\n",
       "<tr>\n",
       "  <th>Employment_Independent contractor, freelancer, or self-employed</th>    <td>    0.1032</td> <td>    0.017</td> <td>    6.228</td> <td> 0.000</td> <td>    0.071</td> <td>    0.136</td>\n",
       "</tr>\n",
       "<tr>\n",
       "  <th>Employment_Not employed, and not looking for work</th>                  <td>    0.2882</td> <td>    0.020</td> <td>   14.667</td> <td> 0.000</td> <td>    0.250</td> <td>    0.327</td>\n",
       "</tr>\n",
       "<tr>\n",
       "  <th>Employment_Not employed, but looking for work</th>                      <td>    0.2891</td> <td>    0.017</td> <td>   17.117</td> <td> 0.000</td> <td>    0.256</td> <td>    0.322</td>\n",
       "</tr>\n",
       "<tr>\n",
       "  <th>Employment_Retired</th>                                                 <td>    0.2973</td> <td>    0.058</td> <td>    5.116</td> <td> 0.000</td> <td>    0.183</td> <td>    0.411</td>\n",
       "</tr>\n",
       "<tr>\n",
       "  <th>OpenSourcer_Less than once per year</th>                                <td>   -0.0515</td> <td>    0.010</td> <td>   -5.014</td> <td> 0.000</td> <td>   -0.072</td> <td>   -0.031</td>\n",
       "</tr>\n",
       "<tr>\n",
       "  <th>OpenSourcer_Never</th>                                                  <td>   -0.0633</td> <td>    0.010</td> <td>   -6.363</td> <td> 0.000</td> <td>   -0.083</td> <td>   -0.044</td>\n",
       "</tr>\n",
       "<tr>\n",
       "  <th>OpenSourcer_Once a month or more often</th>                             <td>    0.0587</td> <td>    0.013</td> <td>    4.562</td> <td> 0.000</td> <td>    0.033</td> <td>    0.084</td>\n",
       "</tr>\n",
       "<tr>\n",
       "  <th>Hobbyist_Yes</th>                                                       <td>    0.0475</td> <td>    0.009</td> <td>    5.075</td> <td> 0.000</td> <td>    0.029</td> <td>    0.066</td>\n",
       "</tr>\n",
       "<tr>\n",
       "  <th>intercept</th>                                                          <td>    3.7465</td> <td>    0.018</td> <td>  204.547</td> <td> 0.000</td> <td>    3.711</td> <td>    3.782</td>\n",
       "</tr>\n",
       "</table>\n",
       "<table class=\"simpletable\">\n",
       "<tr>\n",
       "  <th>Omnibus:</th>       <td>9272.451</td> <th>  Durbin-Watson:     </th> <td>   2.012</td> \n",
       "</tr>\n",
       "<tr>\n",
       "  <th>Prob(Omnibus):</th>  <td> 0.000</td>  <th>  Jarque-Bera (JB):  </th> <td>12454.123</td>\n",
       "</tr>\n",
       "<tr>\n",
       "  <th>Skew:</th>           <td>-0.905</td>  <th>  Prob(JB):          </th> <td>    0.00</td> \n",
       "</tr>\n",
       "<tr>\n",
       "  <th>Kurtosis:</th>       <td> 3.289</td>  <th>  Cond. No.          </th> <td>4.12e+06</td> \n",
       "</tr>\n",
       "</table><br/><br/>Warnings:<br/>[1] Standard Errors assume that the covariance matrix of the errors is correctly specified.<br/>[2] The condition number is large, 4.12e+06. This might indicate that there are<br/>strong multicollinearity or other numerical problems."
      ],
      "text/plain": [
       "<class 'statsmodels.iolib.summary.Summary'>\n",
       "\"\"\"\n",
       "                            OLS Regression Results                            \n",
       "==============================================================================\n",
       "Dep. Variable:             JobSat_num   R-squared:                       0.019\n",
       "Model:                            OLS   Adj. R-squared:                  0.019\n",
       "Method:                 Least Squares   F-statistic:                     68.79\n",
       "Date:                Tue, 16 Jul 2019   Prob (F-statistic):               0.00\n",
       "Time:                        08:48:09   Log-Likelihood:            -1.3358e+05\n",
       "No. Observations:               88883   AIC:                         2.672e+05\n",
       "Df Residuals:                   88857   BIC:                         2.674e+05\n",
       "Df Model:                          25                                         \n",
       "Covariance Type:            nonrobust                                         \n",
       "======================================================================================================================================\n",
       "                                                                         coef    std err          t      P>|t|      [0.025      0.975]\n",
       "--------------------------------------------------------------------------------------------------------------------------------------\n",
       "ConvertedComp                                                       1.751e-07   1.63e-08     10.756      0.000    1.43e-07    2.07e-07\n",
       "PurchaseWhat_I have some influence                                     0.1328      0.009     15.215      0.000       0.116       0.150\n",
       "WorkRemote_About half the time                                        -0.1563      0.026     -6.038      0.000      -0.207      -0.106\n",
       "WorkRemote_All or almost all the time                                  0.0090      0.015      0.584      0.559      -0.021       0.039\n",
       "WorkRemote_Its complicated                                            -0.3973      0.020    -19.979      0.000      -0.436      -0.358\n",
       "WorkRemote_Less than half the time, but at least one day each week    -0.0162      0.016     -1.014      0.311      -0.048       0.015\n",
       "WorkRemote_Less than once per month_Never                             -0.1054      0.010    -10.433      0.000      -0.125      -0.086\n",
       "WorkRemote_More than half, but not all, the time                      -0.1487      0.024     -6.198      0.000      -0.196      -0.102\n",
       "OrgSize_10 to 19 employees                                            -0.0448      0.018     -2.451      0.014      -0.081      -0.009\n",
       "OrgSize_10,000 or more employees                                      -0.0535      0.017     -3.226      0.001      -0.086      -0.021\n",
       "OrgSize_100 to 499 employees                                          -0.0072      0.016     -0.455      0.649      -0.038       0.024\n",
       "OrgSize_2-9 employees                                                 -0.0110      0.018     -0.604      0.546      -0.047       0.025\n",
       "OrgSize_20 to 99 employees                                             0.0374      0.015      2.558      0.011       0.009       0.066\n",
       "OrgSize_5,000 to 9,999 employees                                      -0.0257      0.024     -1.092      0.275      -0.072       0.020\n",
       "OrgSize_500 to 999 employees                                           0.0004      0.020      0.018      0.985      -0.040       0.040\n",
       "OrgSize_Just me                                                       -0.1345      0.025     -5.357      0.000      -0.184      -0.085\n",
       "Employment_Employed part-time                                          0.0864      0.017      5.056      0.000       0.053       0.120\n",
       "Employment_Independent contractor, freelancer, or self-employed        0.1032      0.017      6.228      0.000       0.071       0.136\n",
       "Employment_Not employed, and not looking for work                      0.2882      0.020     14.667      0.000       0.250       0.327\n",
       "Employment_Not employed, but looking for work                          0.2891      0.017     17.117      0.000       0.256       0.322\n",
       "Employment_Retired                                                     0.2973      0.058      5.116      0.000       0.183       0.411\n",
       "OpenSourcer_Less than once per year                                   -0.0515      0.010     -5.014      0.000      -0.072      -0.031\n",
       "OpenSourcer_Never                                                     -0.0633      0.010     -6.363      0.000      -0.083      -0.044\n",
       "OpenSourcer_Once a month or more often                                 0.0587      0.013      4.562      0.000       0.033       0.084\n",
       "Hobbyist_Yes                                                           0.0475      0.009      5.075      0.000       0.029       0.066\n",
       "intercept                                                              3.7465      0.018    204.547      0.000       3.711       3.782\n",
       "==============================================================================\n",
       "Omnibus:                     9272.451   Durbin-Watson:                   2.012\n",
       "Prob(Omnibus):                  0.000   Jarque-Bera (JB):            12454.123\n",
       "Skew:                          -0.905   Prob(JB):                         0.00\n",
       "Kurtosis:                       3.289   Cond. No.                     4.12e+06\n",
       "==============================================================================\n",
       "\n",
       "Warnings:\n",
       "[1] Standard Errors assume that the covariance matrix of the errors is correctly specified.\n",
       "[2] The condition number is large, 4.12e+06. This might indicate that there are\n",
       "strong multicollinearity or other numerical problems.\n",
       "\"\"\""
      ]
     },
     "execution_count": 62,
     "metadata": {},
     "output_type": "execute_result"
    }
   ],
   "source": [
    "# add an intercept\n",
    "X['intercept'] = 1\n",
    "# predicting job satisfaction with multiple linear regression\n",
    "lm_job = sm.OLS(y_JobSat, X)\n",
    "#fit the model\n",
    "results_job = lm_job.fit()\n",
    "results_job.summary()"
   ]
  },
  {
   "cell_type": "markdown",
   "metadata": {},
   "source": [
    "The low r-squared in both regressions (0.116 resp. 0.085) indicates that the regression doesnt fit the data very well. "
   ]
  },
  {
   "cell_type": "code",
   "execution_count": 63,
   "metadata": {},
   "outputs": [
    {
     "data": {
      "text/html": [
       "<table class=\"simpletable\">\n",
       "<caption>OLS Regression Results</caption>\n",
       "<tr>\n",
       "  <th>Dep. Variable:</th>      <td>CarrerSat_num</td>  <th>  R-squared:         </th>  <td>   0.059</td>  \n",
       "</tr>\n",
       "<tr>\n",
       "  <th>Model:</th>                   <td>OLS</td>       <th>  Adj. R-squared:    </th>  <td>   0.059</td>  \n",
       "</tr>\n",
       "<tr>\n",
       "  <th>Method:</th>             <td>Least Squares</td>  <th>  F-statistic:       </th>  <td>   224.6</td>  \n",
       "</tr>\n",
       "<tr>\n",
       "  <th>Date:</th>             <td>Tue, 16 Jul 2019</td> <th>  Prob (F-statistic):</th>   <td>  0.00</td>   \n",
       "</tr>\n",
       "<tr>\n",
       "  <th>Time:</th>                 <td>08:48:10</td>     <th>  Log-Likelihood:    </th> <td>-1.3442e+05</td>\n",
       "</tr>\n",
       "<tr>\n",
       "  <th>No. Observations:</th>      <td> 88883</td>      <th>  AIC:               </th>  <td>2.689e+05</td> \n",
       "</tr>\n",
       "<tr>\n",
       "  <th>Df Residuals:</th>          <td> 88857</td>      <th>  BIC:               </th>  <td>2.691e+05</td> \n",
       "</tr>\n",
       "<tr>\n",
       "  <th>Df Model:</th>              <td>    25</td>      <th>                     </th>      <td> </td>     \n",
       "</tr>\n",
       "<tr>\n",
       "  <th>Covariance Type:</th>      <td>nonrobust</td>    <th>                     </th>      <td> </td>     \n",
       "</tr>\n",
       "</table>\n",
       "<table class=\"simpletable\">\n",
       "<tr>\n",
       "                                   <td></td>                                     <th>coef</th>     <th>std err</th>      <th>t</th>      <th>P>|t|</th>  <th>[0.025</th>    <th>0.975]</th>  \n",
       "</tr>\n",
       "<tr>\n",
       "  <th>ConvertedComp</th>                                                      <td> 2.516e-07</td> <td> 1.64e-08</td> <td>   15.307</td> <td> 0.000</td> <td> 2.19e-07</td> <td> 2.84e-07</td>\n",
       "</tr>\n",
       "<tr>\n",
       "  <th>PurchaseWhat_I have some influence</th>                                 <td>    0.0022</td> <td>    0.009</td> <td>    0.254</td> <td> 0.799</td> <td>   -0.015</td> <td>    0.020</td>\n",
       "</tr>\n",
       "<tr>\n",
       "  <th>WorkRemote_About half the time</th>                                     <td>   -0.1531</td> <td>    0.026</td> <td>   -5.858</td> <td> 0.000</td> <td>   -0.204</td> <td>   -0.102</td>\n",
       "</tr>\n",
       "<tr>\n",
       "  <th>WorkRemote_All or almost all the time</th>                              <td>   -0.0723</td> <td>    0.015</td> <td>   -4.669</td> <td> 0.000</td> <td>   -0.103</td> <td>   -0.042</td>\n",
       "</tr>\n",
       "<tr>\n",
       "  <th>WorkRemote_Its complicated</th>                                         <td>   -0.3789</td> <td>    0.020</td> <td>  -18.871</td> <td> 0.000</td> <td>   -0.418</td> <td>   -0.340</td>\n",
       "</tr>\n",
       "<tr>\n",
       "  <th>WorkRemote_Less than half the time, but at least one day each week</th> <td>    0.0040</td> <td>    0.016</td> <td>    0.248</td> <td> 0.804</td> <td>   -0.028</td> <td>    0.036</td>\n",
       "</tr>\n",
       "<tr>\n",
       "  <th>WorkRemote_Less than once per month_Never</th>                          <td>    0.0189</td> <td>    0.010</td> <td>    1.856</td> <td> 0.063</td> <td>   -0.001</td> <td>    0.039</td>\n",
       "</tr>\n",
       "<tr>\n",
       "  <th>WorkRemote_More than half, but not all, the time</th>                   <td>   -0.1688</td> <td>    0.024</td> <td>   -6.969</td> <td> 0.000</td> <td>   -0.216</td> <td>   -0.121</td>\n",
       "</tr>\n",
       "<tr>\n",
       "  <th>OrgSize_10 to 19 employees</th>                                         <td>   -0.1054</td> <td>    0.018</td> <td>   -5.703</td> <td> 0.000</td> <td>   -0.142</td> <td>   -0.069</td>\n",
       "</tr>\n",
       "<tr>\n",
       "  <th>OrgSize_10,000 or more employees</th>                                   <td>    0.0050</td> <td>    0.017</td> <td>    0.300</td> <td> 0.764</td> <td>   -0.028</td> <td>    0.038</td>\n",
       "</tr>\n",
       "<tr>\n",
       "  <th>OrgSize_100 to 499 employees</th>                                       <td>   -0.0290</td> <td>    0.016</td> <td>   -1.820</td> <td> 0.069</td> <td>   -0.060</td> <td>    0.002</td>\n",
       "</tr>\n",
       "<tr>\n",
       "  <th>OrgSize_2-9 employees</th>                                              <td>   -0.1389</td> <td>    0.018</td> <td>   -7.520</td> <td> 0.000</td> <td>   -0.175</td> <td>   -0.103</td>\n",
       "</tr>\n",
       "<tr>\n",
       "  <th>OrgSize_20 to 99 employees</th>                                         <td>    0.1080</td> <td>    0.015</td> <td>    7.320</td> <td> 0.000</td> <td>    0.079</td> <td>    0.137</td>\n",
       "</tr>\n",
       "<tr>\n",
       "  <th>OrgSize_5,000 to 9,999 employees</th>                                   <td>    0.0031</td> <td>    0.024</td> <td>    0.131</td> <td> 0.895</td> <td>   -0.043</td> <td>    0.050</td>\n",
       "</tr>\n",
       "<tr>\n",
       "  <th>OrgSize_500 to 999 employees</th>                                       <td>   -0.0294</td> <td>    0.021</td> <td>   -1.427</td> <td> 0.153</td> <td>   -0.070</td> <td>    0.011</td>\n",
       "</tr>\n",
       "<tr>\n",
       "  <th>OrgSize_Just me</th>                                                    <td>   -0.2231</td> <td>    0.025</td> <td>   -8.804</td> <td> 0.000</td> <td>   -0.273</td> <td>   -0.173</td>\n",
       "</tr>\n",
       "<tr>\n",
       "  <th>Employment_Employed part-time</th>                                      <td>    0.2187</td> <td>    0.017</td> <td>   12.676</td> <td> 0.000</td> <td>    0.185</td> <td>    0.253</td>\n",
       "</tr>\n",
       "<tr>\n",
       "  <th>Employment_Independent contractor, freelancer, or self-employed</th>    <td>    0.1903</td> <td>    0.017</td> <td>   11.376</td> <td> 0.000</td> <td>    0.158</td> <td>    0.223</td>\n",
       "</tr>\n",
       "<tr>\n",
       "  <th>Employment_Not employed, and not looking for work</th>                  <td>    0.7969</td> <td>    0.020</td> <td>   40.167</td> <td> 0.000</td> <td>    0.758</td> <td>    0.836</td>\n",
       "</tr>\n",
       "<tr>\n",
       "  <th>Employment_Not employed, but looking for work</th>                      <td>    0.3251</td> <td>    0.017</td> <td>   19.065</td> <td> 0.000</td> <td>    0.292</td> <td>    0.358</td>\n",
       "</tr>\n",
       "<tr>\n",
       "  <th>Employment_Retired</th>                                                 <td>    0.8145</td> <td>    0.059</td> <td>   13.880</td> <td> 0.000</td> <td>    0.699</td> <td>    0.929</td>\n",
       "</tr>\n",
       "<tr>\n",
       "  <th>OpenSourcer_Less than once per year</th>                                <td>   -0.0662</td> <td>    0.010</td> <td>   -6.376</td> <td> 0.000</td> <td>   -0.086</td> <td>   -0.046</td>\n",
       "</tr>\n",
       "<tr>\n",
       "  <th>OpenSourcer_Never</th>                                                  <td>   -0.0537</td> <td>    0.010</td> <td>   -5.345</td> <td> 0.000</td> <td>   -0.073</td> <td>   -0.034</td>\n",
       "</tr>\n",
       "<tr>\n",
       "  <th>OpenSourcer_Once a month or more often</th>                             <td>    0.0651</td> <td>    0.013</td> <td>    5.019</td> <td> 0.000</td> <td>    0.040</td> <td>    0.091</td>\n",
       "</tr>\n",
       "<tr>\n",
       "  <th>Hobbyist_Yes</th>                                                       <td>    0.1439</td> <td>    0.009</td> <td>   15.215</td> <td> 0.000</td> <td>    0.125</td> <td>    0.162</td>\n",
       "</tr>\n",
       "<tr>\n",
       "  <th>intercept</th>                                                          <td>    3.9443</td> <td>    0.018</td> <td>  213.297</td> <td> 0.000</td> <td>    3.908</td> <td>    3.980</td>\n",
       "</tr>\n",
       "</table>\n",
       "<table class=\"simpletable\">\n",
       "<tr>\n",
       "  <th>Omnibus:</th>       <td>16307.324</td> <th>  Durbin-Watson:     </th> <td>   2.009</td> \n",
       "</tr>\n",
       "<tr>\n",
       "  <th>Prob(Omnibus):</th>  <td> 0.000</td>   <th>  Jarque-Bera (JB):  </th> <td>26903.954</td>\n",
       "</tr>\n",
       "<tr>\n",
       "  <th>Skew:</th>           <td>-1.269</td>   <th>  Prob(JB):          </th> <td>    0.00</td> \n",
       "</tr>\n",
       "<tr>\n",
       "  <th>Kurtosis:</th>       <td> 3.908</td>   <th>  Cond. No.          </th> <td>4.12e+06</td> \n",
       "</tr>\n",
       "</table><br/><br/>Warnings:<br/>[1] Standard Errors assume that the covariance matrix of the errors is correctly specified.<br/>[2] The condition number is large, 4.12e+06. This might indicate that there are<br/>strong multicollinearity or other numerical problems."
      ],
      "text/plain": [
       "<class 'statsmodels.iolib.summary.Summary'>\n",
       "\"\"\"\n",
       "                            OLS Regression Results                            \n",
       "==============================================================================\n",
       "Dep. Variable:          CarrerSat_num   R-squared:                       0.059\n",
       "Model:                            OLS   Adj. R-squared:                  0.059\n",
       "Method:                 Least Squares   F-statistic:                     224.6\n",
       "Date:                Tue, 16 Jul 2019   Prob (F-statistic):               0.00\n",
       "Time:                        08:48:10   Log-Likelihood:            -1.3442e+05\n",
       "No. Observations:               88883   AIC:                         2.689e+05\n",
       "Df Residuals:                   88857   BIC:                         2.691e+05\n",
       "Df Model:                          25                                         \n",
       "Covariance Type:            nonrobust                                         \n",
       "======================================================================================================================================\n",
       "                                                                         coef    std err          t      P>|t|      [0.025      0.975]\n",
       "--------------------------------------------------------------------------------------------------------------------------------------\n",
       "ConvertedComp                                                       2.516e-07   1.64e-08     15.307      0.000    2.19e-07    2.84e-07\n",
       "PurchaseWhat_I have some influence                                     0.0022      0.009      0.254      0.799      -0.015       0.020\n",
       "WorkRemote_About half the time                                        -0.1531      0.026     -5.858      0.000      -0.204      -0.102\n",
       "WorkRemote_All or almost all the time                                 -0.0723      0.015     -4.669      0.000      -0.103      -0.042\n",
       "WorkRemote_Its complicated                                            -0.3789      0.020    -18.871      0.000      -0.418      -0.340\n",
       "WorkRemote_Less than half the time, but at least one day each week     0.0040      0.016      0.248      0.804      -0.028       0.036\n",
       "WorkRemote_Less than once per month_Never                              0.0189      0.010      1.856      0.063      -0.001       0.039\n",
       "WorkRemote_More than half, but not all, the time                      -0.1688      0.024     -6.969      0.000      -0.216      -0.121\n",
       "OrgSize_10 to 19 employees                                            -0.1054      0.018     -5.703      0.000      -0.142      -0.069\n",
       "OrgSize_10,000 or more employees                                       0.0050      0.017      0.300      0.764      -0.028       0.038\n",
       "OrgSize_100 to 499 employees                                          -0.0290      0.016     -1.820      0.069      -0.060       0.002\n",
       "OrgSize_2-9 employees                                                 -0.1389      0.018     -7.520      0.000      -0.175      -0.103\n",
       "OrgSize_20 to 99 employees                                             0.1080      0.015      7.320      0.000       0.079       0.137\n",
       "OrgSize_5,000 to 9,999 employees                                       0.0031      0.024      0.131      0.895      -0.043       0.050\n",
       "OrgSize_500 to 999 employees                                          -0.0294      0.021     -1.427      0.153      -0.070       0.011\n",
       "OrgSize_Just me                                                       -0.2231      0.025     -8.804      0.000      -0.273      -0.173\n",
       "Employment_Employed part-time                                          0.2187      0.017     12.676      0.000       0.185       0.253\n",
       "Employment_Independent contractor, freelancer, or self-employed        0.1903      0.017     11.376      0.000       0.158       0.223\n",
       "Employment_Not employed, and not looking for work                      0.7969      0.020     40.167      0.000       0.758       0.836\n",
       "Employment_Not employed, but looking for work                          0.3251      0.017     19.065      0.000       0.292       0.358\n",
       "Employment_Retired                                                     0.8145      0.059     13.880      0.000       0.699       0.929\n",
       "OpenSourcer_Less than once per year                                   -0.0662      0.010     -6.376      0.000      -0.086      -0.046\n",
       "OpenSourcer_Never                                                     -0.0537      0.010     -5.345      0.000      -0.073      -0.034\n",
       "OpenSourcer_Once a month or more often                                 0.0651      0.013      5.019      0.000       0.040       0.091\n",
       "Hobbyist_Yes                                                           0.1439      0.009     15.215      0.000       0.125       0.162\n",
       "intercept                                                              3.9443      0.018    213.297      0.000       3.908       3.980\n",
       "==============================================================================\n",
       "Omnibus:                    16307.324   Durbin-Watson:                   2.009\n",
       "Prob(Omnibus):                  0.000   Jarque-Bera (JB):            26903.954\n",
       "Skew:                          -1.269   Prob(JB):                         0.00\n",
       "Kurtosis:                       3.908   Cond. No.                     4.12e+06\n",
       "==============================================================================\n",
       "\n",
       "Warnings:\n",
       "[1] Standard Errors assume that the covariance matrix of the errors is correctly specified.\n",
       "[2] The condition number is large, 4.12e+06. This might indicate that there are\n",
       "strong multicollinearity or other numerical problems.\n",
       "\"\"\""
      ]
     },
     "execution_count": 63,
     "metadata": {},
     "output_type": "execute_result"
    }
   ],
   "source": [
    "# predicting Carrer satisfaction with multiple linear regression\n",
    "lm_carrer = sm.OLS(y_CarrerSat, X)\n",
    "#fit the model\n",
    "results_carrer = lm_carrer.fit()\n",
    "results_carrer.summary()"
   ]
  },
  {
   "cell_type": "markdown",
   "metadata": {},
   "source": [
    "### 5. Evaluate the Results"
   ]
  },
  {
   "cell_type": "markdown",
   "metadata": {},
   "source": [
    "The low r-squared in both regressions (0.019 resp. 0.059) indicates that the regression doesnt fit the data very well. However, even when R-squared is low, low P values still indicate a real relationship between the significant predictors and the response variable(source: https://blog.minitab.com/blog/adventures-in-statistics-2/how-to-interpret-a-regression-model-with-low-r-squared-and-low-p-values). The regression shows that the compensation resp. the salary has the highest positive correlation with the job and carrer satisfaction.\n",
    "The results also show that working remote has a negative effect has a negative effect on the carrer and job satisfaction (all levels of working remote are negative or have no influence).\n",
    "Organization up to 99 employees have a postive effect on job satisifaction (rest no impact or negative).\n",
    "Organization up to 99 employees and organization over 10000 employees have a postive effect on carrer satisifaction (rest no impact or negative).\n",
    "As expected, contributing to open source and coding as a hobby have a positive effect on job and carrersatisfaction.\n",
    "The results for type of empolyment a little odd since every type of employment has a postive effect on job and carrer satisfaction- meaning basically that the type of employment doesnt really matter for the satisfaction"
   ]
  },
  {
   "cell_type": "markdown",
   "metadata": {},
   "source": [
    "### 6. Deploy- call for action for HR"
   ]
  },
  {
   "cell_type": "markdown",
   "metadata": {},
   "source": [
    "1. offer career possibilities and more carer steps\n",
    "3. keep the spirit of small companies, flat hierarchies\n",
    "4. offer the possibility to work on passion projects and contribute to open source project for some hours under the working time\n",
    "4. create a good office environment where people can work in a creative and calm environment\n",
    "5. minimize meetings and non-development tasks- creating of support functions, so the developer can focus on their main tasks\n",
    "6. offer competitive salaries- the salary has the highest positive influence on job and career satisfaction"
   ]
  },
  {
   "cell_type": "code",
   "execution_count": null,
   "metadata": {},
   "outputs": [],
   "source": []
  }
 ],
 "metadata": {
  "jupytext": {
   "text_representation": {
    "extension": ".Rmd",
    "format_name": "rmarkdown",
    "format_version": "1.0",
    "jupytext_version": "0.8.6"
   }
  },
  "kernelspec": {
   "display_name": "Python 3",
   "language": "python",
   "name": "python3"
  },
  "language_info": {
   "codemirror_mode": {
    "name": "ipython",
    "version": 3
   },
   "file_extension": ".py",
   "mimetype": "text/x-python",
   "name": "python",
   "nbconvert_exporter": "python",
   "pygments_lexer": "ipython3",
   "version": "3.6.8"
  }
 },
 "nbformat": 4,
 "nbformat_minor": 2
}
